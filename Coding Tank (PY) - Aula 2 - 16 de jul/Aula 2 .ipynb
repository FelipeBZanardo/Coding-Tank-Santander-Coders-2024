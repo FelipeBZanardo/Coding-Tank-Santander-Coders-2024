{
 "cells": [
  {
   "cell_type": "code",
   "execution_count": null,
   "metadata": {},
   "outputs": [],
   "source": [
    "    Aula 2 coding talk \n",
    "\n",
    "FOR \n",
    "WHILE \n",
    "IF \n"
   ]
  },
  {
   "cell_type": "markdown",
   "metadata": {},
   "source": [
    "## LOOP  usando for"
   ]
  },
  {
   "cell_type": "markdown",
   "metadata": {},
   "source": [
    "Enquanto você codifica em Python, pode ser necessário repetir o mesmo código várias vezes.\n",
    "\n",
    "Escrever as mesmas linhas de código repetidamente ao longo do seu programa é considerado uma má prática em programação – é aqui que os loops são úteis.\n",
    "\n",
    "Com loops, você pode executar uma sequência de instruções repetidamente por um número predeterminado de vezes até que uma condição específica seja atendida.\n",
    "\n",
    "Usar loops em seu programa ajudará a economizar tempo, minimizar erros e evitar repetições.\n",
    "\n",
    "### Existem dois tipos de loops em Python:\n",
    "\n",
    "* for loops (loops for)\n",
    "* while loops (loops while)"
   ]
  },
  {
   "cell_type": "code",
   "execution_count": 1,
   "metadata": {},
   "outputs": [
    {
     "name": "stdout",
     "output_type": "stream",
     "text": [
      "A\n",
      "d\n",
      "a\n",
      " \n",
      "B\n",
      "o\n",
      "o\n",
      "t\n",
      "c\n",
      "a\n",
      "m\n",
      "p\n"
     ]
    }
   ],
   "source": [
    "for character in \"Ada Bootcamp\":\n",
    "  print(character)"
   ]
  },
  {
   "cell_type": "markdown",
   "metadata": {},
   "source": [
    "![Sou uma imagem](Python-for-Loops-Definite-Iteration_Watermarked.png)\n"
   ]
  },
  {
   "cell_type": "code",
   "execution_count": 2,
   "metadata": {},
   "outputs": [
    {
     "name": "stdout",
     "output_type": "stream",
     "text": [
      " estamos no x = 0\n",
      " estamos no x = 1\n",
      " estamos no x = 2\n"
     ]
    }
   ],
   "source": [
    "for x in range(0, 3):\n",
    "    print(\" estamos no x = %d\" % (x))"
   ]
  },
  {
   "cell_type": "code",
   "execution_count": 3,
   "metadata": {},
   "outputs": [
    {
     "name": "stdout",
     "output_type": "stream",
     "text": [
      "1 * 1 = 1\n",
      "1 * 2 = 2\n",
      "1 * 3 = 3\n",
      "1 * 4 = 4\n",
      "1 * 5 = 5\n",
      "1 * 6 = 6\n",
      "1 * 7 = 7\n",
      "1 * 8 = 8\n",
      "1 * 9 = 9\n",
      "1 * 10 = 10\n",
      "2 * 1 = 2\n",
      "2 * 2 = 4\n",
      "2 * 3 = 6\n",
      "2 * 4 = 8\n",
      "2 * 5 = 10\n",
      "2 * 6 = 12\n",
      "2 * 7 = 14\n",
      "2 * 8 = 16\n",
      "2 * 9 = 18\n",
      "2 * 10 = 20\n",
      "3 * 1 = 3\n",
      "3 * 2 = 6\n",
      "3 * 3 = 9\n",
      "3 * 4 = 12\n",
      "3 * 5 = 15\n",
      "3 * 6 = 18\n",
      "3 * 7 = 21\n",
      "3 * 8 = 24\n",
      "3 * 9 = 27\n",
      "3 * 10 = 30\n",
      "4 * 1 = 4\n",
      "4 * 2 = 8\n",
      "4 * 3 = 12\n",
      "4 * 4 = 16\n",
      "4 * 5 = 20\n",
      "4 * 6 = 24\n",
      "4 * 7 = 28\n",
      "4 * 8 = 32\n",
      "4 * 9 = 36\n",
      "4 * 10 = 40\n",
      "5 * 1 = 5\n",
      "5 * 2 = 10\n",
      "5 * 3 = 15\n",
      "5 * 4 = 20\n",
      "5 * 5 = 25\n",
      "5 * 6 = 30\n",
      "5 * 7 = 35\n",
      "5 * 8 = 40\n",
      "5 * 9 = 45\n",
      "5 * 10 = 50\n",
      "6 * 1 = 6\n",
      "6 * 2 = 12\n",
      "6 * 3 = 18\n",
      "6 * 4 = 24\n",
      "6 * 5 = 30\n",
      "6 * 6 = 36\n",
      "6 * 7 = 42\n",
      "6 * 8 = 48\n",
      "6 * 9 = 54\n",
      "6 * 10 = 60\n",
      "7 * 1 = 7\n",
      "7 * 2 = 14\n",
      "7 * 3 = 21\n",
      "7 * 4 = 28\n",
      "7 * 5 = 35\n",
      "7 * 6 = 42\n",
      "7 * 7 = 49\n",
      "7 * 8 = 56\n",
      "7 * 9 = 63\n",
      "7 * 10 = 70\n",
      "8 * 1 = 8\n",
      "8 * 2 = 16\n",
      "8 * 3 = 24\n",
      "8 * 4 = 32\n",
      "8 * 5 = 40\n",
      "8 * 6 = 48\n",
      "8 * 7 = 56\n",
      "8 * 8 = 64\n",
      "8 * 9 = 72\n",
      "8 * 10 = 80\n",
      "9 * 1 = 9\n",
      "9 * 2 = 18\n",
      "9 * 3 = 27\n",
      "9 * 4 = 36\n",
      "9 * 5 = 45\n",
      "9 * 6 = 54\n",
      "9 * 7 = 63\n",
      "9 * 8 = 72\n",
      "9 * 9 = 81\n",
      "9 * 10 = 90\n",
      "10 * 1 = 10\n",
      "10 * 2 = 20\n",
      "10 * 3 = 30\n",
      "10 * 4 = 40\n",
      "10 * 5 = 50\n",
      "10 * 6 = 60\n",
      "10 * 7 = 70\n",
      "10 * 8 = 80\n",
      "10 * 9 = 90\n",
      "10 * 10 = 100\n"
     ]
    }
   ],
   "source": [
    "for x in range(1, 11):\n",
    "    for y in range(1, 11):\n",
    "        print('%d * %d = %d' % (x, y, x*y))"
   ]
  },
  {
   "cell_type": "code",
   "execution_count": 6,
   "metadata": {},
   "outputs": [
    {
     "name": "stdout",
     "output_type": "stream",
     "text": [
      "2\n"
     ]
    }
   ],
   "source": [
    "for x in range(3):\n",
    "    if x == 2:\n",
    "        print(x)\n",
    "        break"
   ]
  },
  {
   "cell_type": "markdown",
   "metadata": {},
   "source": [
    "## execicios com loop"
   ]
  },
  {
   "cell_type": "markdown",
   "metadata": {},
   "source": [
    "### Suponha que você queira escrever um programa que imprima números de 1 a 50, formatados assim:\n",
    "* Valor atual = 1\n",
    "* Valor atual = 2\n",
    "* Valor atual = 3\n",
    "...\n",
    "\n",
    "* Valor atual = 50"
   ]
  },
  {
   "cell_type": "code",
   "execution_count": 6,
   "metadata": {},
   "outputs": [
    {
     "name": "stdout",
     "output_type": "stream",
     "text": [
      "Valor atual = 1\n",
      "Valor atual = 2\n",
      "Valor atual = 3\n",
      "Valor atual = 4\n",
      "Valor atual = 5\n",
      "Valor atual = 6\n",
      "Valor atual = 7\n",
      "Valor atual = 8\n",
      "Valor atual = 9\n",
      "Valor atual = 10\n",
      "Valor atual = 11\n",
      "Valor atual = 12\n",
      "Valor atual = 13\n",
      "Valor atual = 14\n",
      "Valor atual = 15\n",
      "Valor atual = 16\n",
      "Valor atual = 17\n",
      "Valor atual = 18\n",
      "Valor atual = 19\n",
      "Valor atual = 20\n",
      "Valor atual = 21\n",
      "Valor atual = 22\n",
      "Valor atual = 23\n",
      "Valor atual = 24\n",
      "Valor atual = 25\n",
      "Valor atual = 26\n",
      "Valor atual = 27\n",
      "Valor atual = 28\n",
      "Valor atual = 29\n",
      "Valor atual = 30\n",
      "Valor atual = 31\n",
      "Valor atual = 32\n",
      "Valor atual = 33\n",
      "Valor atual = 34\n",
      "Valor atual = 35\n",
      "Valor atual = 36\n",
      "Valor atual = 37\n",
      "Valor atual = 38\n",
      "Valor atual = 39\n",
      "Valor atual = 40\n",
      "Valor atual = 41\n",
      "Valor atual = 42\n",
      "Valor atual = 43\n",
      "Valor atual = 44\n",
      "Valor atual = 45\n",
      "Valor atual = 46\n",
      "Valor atual = 47\n",
      "Valor atual = 48\n",
      "Valor atual = 49\n",
      "Valor atual = 50\n"
     ]
    }
   ],
   "source": [
    "for i in range(1,51):\n",
    "    print(\"Valor atual =\", i)"
   ]
  },
  {
   "cell_type": "markdown",
   "metadata": {},
   "source": [
    "### Use loops aninhados para imprimir a seguinte saída:\n",
    "\n",
    "#### 111111111 \n",
    "#### 222222222 /\n",
    "#### ...\n",
    "#### 888888888 /\n",
    "#### 999999999/ "
   ]
  },
  {
   "cell_type": "code",
   "execution_count": 12,
   "metadata": {},
   "outputs": [
    {
     "name": "stdout",
     "output_type": "stream",
     "text": [
      "111111111\n",
      "222222222\n",
      "333333333\n",
      "444444444\n",
      "555555555\n",
      "666666666\n",
      "777777777\n",
      "888888888\n",
      "999999999\n"
     ]
    }
   ],
   "source": [
    "for i in range(1,10):\n",
    "    print(str(i)*9)"
   ]
  },
  {
   "cell_type": "code",
   "execution_count": 16,
   "metadata": {},
   "outputs": [
    {
     "data": {
      "text/plain": [
       "['111111111',\n",
       " '222222222',\n",
       " '333333333',\n",
       " '444444444',\n",
       " '555555555',\n",
       " '666666666',\n",
       " '777777777',\n",
       " '888888888',\n",
       " '999999999']"
      ]
     },
     "execution_count": 16,
     "metadata": {},
     "output_type": "execute_result"
    }
   ],
   "source": [
    "[str(i)*9 for i in range(1,10)]"
   ]
  },
  {
   "cell_type": "code",
   "execution_count": 13,
   "metadata": {},
   "outputs": [
    {
     "name": "stdout",
     "output_type": "stream",
     "text": [
      "111111111\n",
      "222222222\n",
      "333333333\n",
      "444444444\n",
      "555555555\n",
      "666666666\n",
      "777777777\n",
      "888888888\n",
      "999999999\n"
     ]
    }
   ],
   "source": [
    "for i in range(1, 10):  \n",
    "    for j in range(9):  \n",
    "        print(i, end='')\n",
    "    print()"
   ]
  },
  {
   "cell_type": "markdown",
   "metadata": {},
   "source": [
    "Imprima os elementos de uma lista com seus índices:\n"
   ]
  },
  {
   "cell_type": "code",
   "execution_count": null,
   "metadata": {},
   "outputs": [],
   "source": [
    "fruits = [\"apple\", \"banana\", \"cherry\"]\n",
    "for index, fruit in enumerate(fruits):\n",
    "    print(index, fruit)"
   ]
  },
  {
   "cell_type": "code",
   "execution_count": null,
   "metadata": {},
   "outputs": [],
   "source": [
    "Calcule a soma de uma lista de números:"
   ]
  },
  {
   "cell_type": "code",
   "execution_count": 14,
   "metadata": {},
   "outputs": [
    {
     "name": "stdout",
     "output_type": "stream",
     "text": [
      "15\n"
     ]
    }
   ],
   "source": [
    "numbers = [1, 2, 3, 4, 5]\n",
    "total = 0\n",
    "for number in numbers:\n",
    "    total += number\n",
    "print(total)"
   ]
  },
  {
   "cell_type": "code",
   "execution_count": 15,
   "metadata": {},
   "outputs": [
    {
     "data": {
      "text/plain": [
       "15"
      ]
     },
     "execution_count": 15,
     "metadata": {},
     "output_type": "execute_result"
    }
   ],
   "source": [
    "sum(numbers)"
   ]
  },
  {
   "cell_type": "markdown",
   "metadata": {},
   "source": [
    "## AGORA É COM VCS :"
   ]
  },
  {
   "cell_type": "markdown",
   "metadata": {},
   "source": [
    "### Imprima a tabuada de um número fornecido pelo usuário:"
   ]
  },
  {
   "cell_type": "code",
   "execution_count": 20,
   "metadata": {},
   "outputs": [
    {
     "name": "stdout",
     "output_type": "stream",
     "text": [
      "Tabuado do 7\n",
      "7 x 1 = 7\n",
      "7 x 2 = 14\n",
      "7 x 3 = 21\n",
      "7 x 4 = 28\n",
      "7 x 5 = 35\n",
      "7 x 6 = 42\n",
      "7 x 7 = 49\n",
      "7 x 8 = 56\n",
      "7 x 9 = 63\n",
      "7 x 10 = 70\n"
     ]
    }
   ],
   "source": [
    "numero = int(input(\"Digite um número: \"))\n",
    "print(\"Tabuado do\", numero)\n",
    "for i in range (1,11):\n",
    "    print(f\"{numero} x {i} = {numero*i}\")\n"
   ]
  },
  {
   "cell_type": "markdown",
   "metadata": {},
   "source": [
    "### Verifique se um número é primo:"
   ]
  },
  {
   "cell_type": "code",
   "execution_count": 27,
   "metadata": {},
   "outputs": [
    {
     "name": "stdout",
     "output_type": "stream",
     "text": [
      "É primo\n"
     ]
    }
   ],
   "source": [
    "valor = int(input(\"Digite um número: \"))\n",
    "contador = 0\n",
    "for i in range(1,valor+1):\n",
    "    if (valor % i == 0):\n",
    "        contador +=1\n",
    "if contador == 2:\n",
    "    print(\"É primo\")\n",
    "else:\n",
    "    print(\"Não é primo\")"
   ]
  },
  {
   "cell_type": "markdown",
   "metadata": {},
   "source": [
    "Verifique se o número é par ou ímpar"
   ]
  },
  {
   "cell_type": "code",
   "execution_count": 28,
   "metadata": {},
   "outputs": [
    {
     "name": "stdout",
     "output_type": "stream",
     "text": [
      "É par!\n"
     ]
    }
   ],
   "source": [
    "numero = int(input(\"Digite um número inteiro: \"))\n",
    "if (numero % 2 == 0):\n",
    "    print(\"É par!\")\n",
    "else:\n",
    "    print(\"É ímpar!\")"
   ]
  },
  {
   "cell_type": "markdown",
   "metadata": {},
   "source": [
    "Imprima os números de 1 a 100, mas substitua múltiplos de 3 por \"multiplo de 3 : \" e múltiplos de 5 por \"multiplo de 5 \":"
   ]
  },
  {
   "cell_type": "code",
   "execution_count": 1,
   "metadata": {},
   "outputs": [
    {
     "name": "stdout",
     "output_type": "stream",
     "text": [
      "1\n",
      "2\n",
      "Múltiplo de 3\n",
      "4\n",
      "Múltiplo de 5\n",
      "Múltiplo de 3\n",
      "7\n",
      "8\n",
      "Múltiplo de 3\n",
      "Múltiplo de 5\n",
      "11\n",
      "Múltiplo de 3\n",
      "13\n",
      "14\n",
      "Múltiplo de 3\n",
      "16\n",
      "17\n",
      "Múltiplo de 3\n",
      "19\n",
      "Múltiplo de 5\n",
      "Múltiplo de 3\n",
      "22\n",
      "23\n",
      "Múltiplo de 3\n",
      "Múltiplo de 5\n",
      "26\n",
      "Múltiplo de 3\n",
      "28\n",
      "29\n",
      "Múltiplo de 3\n",
      "31\n",
      "32\n",
      "Múltiplo de 3\n",
      "34\n",
      "Múltiplo de 5\n",
      "Múltiplo de 3\n",
      "37\n",
      "38\n",
      "Múltiplo de 3\n",
      "Múltiplo de 5\n",
      "41\n",
      "Múltiplo de 3\n",
      "43\n",
      "44\n",
      "Múltiplo de 3\n",
      "46\n",
      "47\n",
      "Múltiplo de 3\n",
      "49\n",
      "Múltiplo de 5\n",
      "Múltiplo de 3\n",
      "52\n",
      "53\n",
      "Múltiplo de 3\n",
      "Múltiplo de 5\n",
      "56\n",
      "Múltiplo de 3\n",
      "58\n",
      "59\n",
      "Múltiplo de 3\n",
      "61\n",
      "62\n",
      "Múltiplo de 3\n",
      "64\n",
      "Múltiplo de 5\n",
      "Múltiplo de 3\n",
      "67\n",
      "68\n",
      "Múltiplo de 3\n",
      "Múltiplo de 5\n",
      "71\n",
      "Múltiplo de 3\n",
      "73\n",
      "74\n",
      "Múltiplo de 3\n",
      "76\n",
      "77\n",
      "Múltiplo de 3\n",
      "79\n",
      "Múltiplo de 5\n",
      "Múltiplo de 3\n",
      "82\n",
      "83\n",
      "Múltiplo de 3\n",
      "Múltiplo de 5\n",
      "86\n",
      "Múltiplo de 3\n",
      "88\n",
      "89\n",
      "Múltiplo de 3\n",
      "91\n",
      "92\n",
      "Múltiplo de 3\n",
      "94\n",
      "Múltiplo de 5\n",
      "Múltiplo de 3\n",
      "97\n",
      "98\n",
      "Múltiplo de 3\n",
      "Múltiplo de 5\n"
     ]
    }
   ],
   "source": [
    "for i in range(1, 101):\n",
    "    if i%3==0:\n",
    "        print(\"Múltiplo de 3\")\n",
    "    elif i%5==0:\n",
    "        print(\"Múltiplo de 5\")\n",
    "    else:\n",
    "        print(i)"
   ]
  },
  {
   "cell_type": "markdown",
   "metadata": {},
   "source": [
    "# Estrutura de Repetição while"
   ]
  },
  {
   "cell_type": "markdown",
   "metadata": {},
   "source": [
    "\n",
    "A estrutura while é utilizada para repetir um bloco de código enquanto uma condição é verdadeira. A sintaxe básica é:"
   ]
  },
  {
   "cell_type": "code",
   "execution_count": null,
   "metadata": {},
   "outputs": [],
   "source": [
    "while condição:\n",
    "    # bloco de código a ser repetido"
   ]
  },
  {
   "cell_type": "markdown",
   "metadata": {},
   "source": [
    "O laço while avalia a condição antes de executar o bloco de código. Se a condição for verdadeira, o bloco é executado, e a condição é verificada novamente. O laço continua até que a condição se torne falsa."
   ]
  },
  {
   "cell_type": "markdown",
   "metadata": {},
   "source": [
    "Imprima números de 1 a 10:"
   ]
  },
  {
   "cell_type": "code",
   "execution_count": 7,
   "metadata": {},
   "outputs": [
    {
     "name": "stdout",
     "output_type": "stream",
     "text": [
      "1\n",
      "2\n",
      "3\n",
      "4\n",
      "5\n",
      "6\n",
      "7\n",
      "8\n",
      "9\n",
      "10\n"
     ]
    }
   ],
   "source": [
    "i = 1\n",
    "while i <= 10:\n",
    "    print(i)\n",
    "    i += 1"
   ]
  },
  {
   "cell_type": "markdown",
   "metadata": {},
   "source": [
    "Peça ao usuário para digitar um número até que ele digite 0:"
   ]
  },
  {
   "cell_type": "code",
   "execution_count": 8,
   "metadata": {},
   "outputs": [],
   "source": [
    "num = int(input(\"Digite um número (0 para sair): \"))\n",
    "while num != 0:\n",
    "    num = int(input(\"Digite um número (0 para sair): \"))"
   ]
  },
  {
   "cell_type": "markdown",
   "metadata": {},
   "source": [
    "Encontre o maior número em uma lista:"
   ]
  },
  {
   "cell_type": "code",
   "execution_count": 29,
   "metadata": {},
   "outputs": [
    {
     "name": "stdout",
     "output_type": "stream",
     "text": [
      "12\n"
     ]
    }
   ],
   "source": [
    "numbers = [4, 7, 1, 12, 9]\n",
    "max_num = numbers[0]\n",
    "i = 1\n",
    "while i < len(numbers):\n",
    "    if numbers[i] > max_num:\n",
    "        max_num = numbers[i]\n",
    "    i += 1\n",
    "print(max_num)"
   ]
  },
  {
   "cell_type": "code",
   "execution_count": 31,
   "metadata": {},
   "outputs": [
    {
     "name": "stdout",
     "output_type": "stream",
     "text": [
      "You can become a mobile app developer\n"
     ]
    }
   ],
   "source": [
    "lang = input(\"What's the programming language you want to learn? \")\n",
    "\n",
    "match lang:\n",
    "    case \"JavaScript\":\n",
    "        print(\"You can become a web developer.\")\n",
    "\n",
    "    case \"Python\":\n",
    "        print(\"You can become a Data Scientist\")\n",
    "\n",
    "    case \"PHP\":\n",
    "        print(\"You can become a backend developer\")\n",
    "    \n",
    "    case \"Solidity\":\n",
    "        print(\"You can become a Blockchain developer\")\n",
    "\n",
    "    case \"Java\":\n",
    "        print(\"You can become a mobile app developer\")\n",
    "    case _:\n",
    "        print(\"The language doesn't matter\")"
   ]
  },
  {
   "cell_type": "markdown",
   "metadata": {},
   "source": [
    "Peça ao usuário para adivinhar um número até que ele acerte:\n",
    "\n",
    "\n"
   ]
  },
  {
   "cell_type": "code",
   "execution_count": 18,
   "metadata": {},
   "outputs": [
    {
     "name": "stdout",
     "output_type": "stream",
     "text": [
      "Você acertou!\n"
     ]
    }
   ],
   "source": [
    "secret_number = 7\n",
    "guess = int(input(\"Adivinhe o número: \"))\n",
    "while guess != secret_number:\n",
    "    guess = int(input(\"Adivinhe o número: \"))\n",
    "print(\"Você acertou!\")"
   ]
  },
  {
   "cell_type": "markdown",
   "metadata": {},
   "source": [
    "#  DESAFIO "
   ]
  },
  {
   "cell_type": "markdown",
   "metadata": {},
   "source": [
    "Encontre todos os números primos em um intervalo fornecido pelo usuário:"
   ]
  },
  {
   "cell_type": "code",
   "execution_count": 34,
   "metadata": {},
   "outputs": [
    {
     "name": "stdout",
     "output_type": "stream",
     "text": [
      "Os números primos entre 4 e 10 são: [5, 7]\n"
     ]
    }
   ],
   "source": [
    "limite_inferior = int(input(\"Digite o limite inferior do intervalo\"))\n",
    "limite_superior = int(input(\"Digite o limite superior do intervalo\"))\n",
    "primos = list()\n",
    "for i in range(limite_inferior, limite_superior+1):\n",
    "    contador = 0\n",
    "    for j in range(1, i+1):\n",
    "        if (i % j == 0):\n",
    "            contador +=1\n",
    "    if contador == 2:\n",
    "        primos.append(i)\n",
    "\n",
    "print(f\"Os números primos entre {limite_inferior} e {limite_superior} são: {primos}\")"
   ]
  },
  {
   "cell_type": "markdown",
   "metadata": {},
   "source": [
    "Encontre todos os números ímpares em um intervalo fornecido pelo usuário:"
   ]
  },
  {
   "cell_type": "code",
   "execution_count": 35,
   "metadata": {},
   "outputs": [
    {
     "name": "stdout",
     "output_type": "stream",
     "text": [
      "Os números ímpares entre 4 e 7 são: [5, 7]\n"
     ]
    }
   ],
   "source": [
    "limite_inferior = int(input(\"Digite o limite inferior do intervalo\"))\n",
    "limite_superior = int(input(\"Digite o limite superior do intervalo\"))\n",
    "impares = list()\n",
    "for numero in range(limite_inferior, limite_superior+1):\n",
    "    if numero % 2 == 1:\n",
    "        impares.append(numero)\n",
    "\n",
    "print(f\"Os números ímpares entre {limite_inferior} e {limite_superior} são: {impares}\")"
   ]
  },
  {
   "cell_type": "code",
   "execution_count": 36,
   "metadata": {},
   "outputs": [
    {
     "data": {
      "text/plain": [
       "[7, 9]"
      ]
     },
     "execution_count": 36,
     "metadata": {},
     "output_type": "execute_result"
    }
   ],
   "source": [
    "start = int(input('Início do intervalo: '))\n",
    "end = int(input(\"Fim do intervalo: \"))\n",
    "\n",
    "[x for x in range(start+1, end+1) if x % 2]"
   ]
  },
  {
   "cell_type": "markdown",
   "metadata": {},
   "source": [
    "### Condicional IF"
   ]
  },
  {
   "cell_type": "markdown",
   "metadata": {},
   "source": [
    "![Sou uma imagem](Conditional-Statements-in-Python_Watermarked.png)"
   ]
  },
  {
   "cell_type": "markdown",
   "metadata": {},
   "source": [
    "## Declarações Condicionais if, else e elif\n",
    "### As declarações condicionais permitem que o programa tome decisões com base em condições específicas. A estrutura básica é:\n",
    "\n",
    "\n",
    "\n"
   ]
  },
  {
   "cell_type": "code",
   "execution_count": null,
   "metadata": {},
   "outputs": [],
   "source": [
    "if condição:\n",
    "    # bloco de código se a condição for verdadeira\n",
    "elif outra_condição:\n",
    "    # bloco de código se a outra_condição for verdadeira\n",
    "else:\n",
    "    # bloco de código se nenhuma das condições anteriores for verdadeira"
   ]
  },
  {
   "cell_type": "markdown",
   "metadata": {},
   "source": [
    "    \n",
    "O Python avalia a condição fornecida no if. Se a condição for verdadeira, o bloco de código associado é executado. Caso contrário, o Python verifica a próxima condição elif, se presente, e assim por diante. Se nenhuma das condições for verdadeira, o bloco else é executado."
   ]
  },
  {
   "cell_type": "markdown",
   "metadata": {},
   "source": [
    "Verifique se um número é positivo, negativo ou zero:"
   ]
  },
  {
   "cell_type": "code",
   "execution_count": 12,
   "metadata": {},
   "outputs": [
    {
     "name": "stdout",
     "output_type": "stream",
     "text": [
      "Positivo\n"
     ]
    }
   ],
   "source": [
    "num = int(input(\"Digite um número: \"))\n",
    "if num > 0:\n",
    "    print(\"Positivo\")\n",
    "elif num < 0:\n",
    "    print(\"Negativo\")\n",
    "else:\n",
    "    print(\"Zero\")"
   ]
  },
  {
   "cell_type": "markdown",
   "metadata": {},
   "source": [
    "Verifique se um número está dentro de um intervalo:"
   ]
  },
  {
   "cell_type": "code",
   "execution_count": null,
   "metadata": {},
   "outputs": [],
   "source": [
    "num = int(input(\"Digite um número: \"))\n",
    "if 10 <= num <= 20:\n",
    "    print(\"Dentro do intervalo\")\n",
    "else:\n",
    "    print(\"Fora do intervalo\")"
   ]
  },
  {
   "cell_type": "code",
   "execution_count": 40,
   "metadata": {},
   "outputs": [
    {
     "name": "stdout",
     "output_type": "stream",
     "text": [
      "Dentro do intervalo\n"
     ]
    }
   ],
   "source": [
    "print (\"Dentro do intervalo\" if int(input(\"Digite um número: \")) in range(10,21) else \"Fora do intervalo\")"
   ]
  },
  {
   "cell_type": "markdown",
   "metadata": {},
   "source": [
    "Calcule a média de três notas e determine a situação do aluno:"
   ]
  },
  {
   "cell_type": "code",
   "execution_count": null,
   "metadata": {},
   "outputs": [],
   "source": [
    "nota1 = float(input(\"Digite a primeira nota: \"))\n",
    "nota2 = float(input(\"Digite a segunda nota: \"))\n",
    "nota3 = float(input(\"Digite a terceira nota: \"))\n",
    "media = (nota1 + nota2 + nota3) / 3\n",
    "if media >= 7:\n",
    "    print(\"Aprovado\")\n",
    "elif 5 <= media < 7:\n",
    "    print(\"Recuperação\")\n",
    "else:\n",
    "    print(\"Reprovado\")"
   ]
  },
  {
   "cell_type": "markdown",
   "metadata": {},
   "source": [
    "## Agora é com  vcs!"
   ]
  },
  {
   "cell_type": "markdown",
   "metadata": {},
   "source": [
    "Determine o maior de três números  dado pelo usuario, o numero inputado tem que ser tratado como float:"
   ]
  },
  {
   "cell_type": "code",
   "execution_count": 2,
   "metadata": {},
   "outputs": [
    {
     "name": "stdout",
     "output_type": "stream",
     "text": [
      "4.4\n"
     ]
    }
   ],
   "source": [
    "numeros = list()\n",
    "for i in range(3):\n",
    "    numeros.append(float(input(f\"Digite o {i+1}º número real: \")))\n",
    "\n",
    "maior = numeros[0]\n",
    "for i in range(3):\n",
    "    if i > maior:\n",
    "        maior = i\n",
    "print(maior)"
   ]
  },
  {
   "cell_type": "markdown",
   "metadata": {},
   "source": [
    "## !!! AGORA VAMOS MISTURA TUDO!!\n"
   ]
  },
  {
   "cell_type": "markdown",
   "metadata": {},
   "source": [
    "Verificar se uma lista de números contém um número específico : "
   ]
  },
  {
   "cell_type": "code",
   "execution_count": 20,
   "metadata": {},
   "outputs": [
    {
     "name": "stdout",
     "output_type": "stream",
     "text": [
      "Número encontrado!\n"
     ]
    }
   ],
   "source": [
    "numbers = [1, 2, 3, 4, 5]\n",
    "target = 3\n",
    "for num in numbers:\n",
    "    if num == target:\n",
    "        print(\"Número encontrado!\")\n",
    "        break"
   ]
  },
  {
   "cell_type": "markdown",
   "metadata": {},
   "source": [
    "Conte a ocorrência de um caractere em uma string :"
   ]
  },
  {
   "cell_type": "code",
   "execution_count": 14,
   "metadata": {},
   "outputs": [
    {
     "name": "stdout",
     "output_type": "stream",
     "text": [
      "O caractere 'o' aparece 2 vezes.\n"
     ]
    }
   ],
   "source": [
    "string = \"hello world\"\n",
    "char = 'o'\n",
    "count = 0\n",
    "for c in string:\n",
    "    if c == char:\n",
    "        count += 1\n",
    "print(f\"O caractere '{char}' aparece {count} vezes.\")"
   ]
  },
  {
   "cell_type": "markdown",
   "metadata": {},
   "source": [
    "Imprimir os números de uma lista que são maiores que 10 :\n",
    "\n"
   ]
  },
  {
   "cell_type": "code",
   "execution_count": 22,
   "metadata": {},
   "outputs": [
    {
     "name": "stdout",
     "output_type": "stream",
     "text": [
      "11\n",
      "14\n",
      "18\n"
     ]
    }
   ],
   "source": [
    "numbers = [4, 11, 7, 14, 18, 3]\n",
    "for num in numbers:\n",
    "    if num > 10:\n",
    "        print(num)"
   ]
  },
  {
   "cell_type": "markdown",
   "metadata": {},
   "source": [
    "## Com vcs \n",
    "### TENHO UMA LISTA COM OS NUMEROS  = [64, 34, 25, 12, 22, 11, 90]\n",
    "### DESEJO ORDENAR ESSA LISTA , COMO FAZER?\n",
    "\n"
   ]
  },
  {
   "cell_type": "code",
   "execution_count": 49,
   "metadata": {},
   "outputs": [
    {
     "data": {
      "text/plain": [
       "[11, 12, 22, 25, 34, 64, 90]"
      ]
     },
     "execution_count": 49,
     "metadata": {},
     "output_type": "execute_result"
    }
   ],
   "source": [
    "lista = [64,34,25,12,22,11,90]\n",
    "lista.sort()\n",
    "lista"
   ]
  },
  {
   "cell_type": "code",
   "execution_count": 60,
   "metadata": {},
   "outputs": [
    {
     "data": {
      "text/plain": [
       "[11, 12, 22, 25, 34, 64, 90]"
      ]
     },
     "execution_count": 60,
     "metadata": {},
     "output_type": "execute_result"
    }
   ],
   "source": [
    "lista = [64,34,25,12,22,11,90]\n",
    "for i in range(len(lista)):\n",
    "    for j in range(len(lista)-i-1):\n",
    "        if lista[j] > lista[j+1]:\n",
    "                aux = lista[j+1]\n",
    "                lista[j+1] = lista[j]\n",
    "                lista[j] = aux\n",
    "lista"
   ]
  },
  {
   "cell_type": "code",
   "execution_count": 17,
   "metadata": {},
   "outputs": [
    {
     "name": "stdout",
     "output_type": "stream",
     "text": [
      "Lista em ordem crescente:\n",
      "[11, 12, 22, 25, 34, 64, 90]\n"
     ]
    }
   ],
   "source": [
    "lista = [64, 34, 25, 12, 22, 11, 90]\n",
    "n = len(lista)\n",
    "\n",
    "for i in range(n):\n",
    "    for j in range(n-i-1):\n",
    "        if lista[j] > lista[j+1]:\n",
    "            lista[j], lista[j+1] = lista[j+1], lista[j]\n",
    "\n",
    "print(\"Lista em ordem crescente:\")\n",
    "print(lista)"
   ]
  },
  {
   "cell_type": "code",
   "execution_count": null,
   "metadata": {},
   "outputs": [],
   "source": []
  },
  {
   "cell_type": "markdown",
   "metadata": {},
   "source": [
    "## Definição de Funções com def"
   ]
  },
  {
   "cell_type": "markdown",
   "metadata": {},
   "source": [
    "\n",
    "Em Python, as funções são definidas usando a palavra-chave def, seguida pelo nome da função, parênteses que podem conter parâmetros, e dois pontos. O bloco de código da função é indentado."
   ]
  },
  {
   "cell_type": "code",
   "execution_count": null,
   "metadata": {},
   "outputs": [],
   "source": [
    "def nome_da_funcao(parametro1, parametro2):\n",
    "    # bloco de código da função\n",
    "    return resultado"
   ]
  },
  {
   "cell_type": "markdown",
   "metadata": {},
   "source": [
    "As funções permitem encapsular e reutilizar código, tornando os programas mais modulares e fáceis de entender."
   ]
  },
  {
   "cell_type": "code",
   "execution_count": 66,
   "metadata": {},
   "outputs": [
    {
     "name": "stdout",
     "output_type": "stream",
     "text": [
      "7\n"
     ]
    }
   ],
   "source": [
    "def soma(a, b):\n",
    "    return a + b\n",
    "\n",
    "resultado = soma(3, 4)\n",
    "print(resultado)  # Saída: 7"
   ]
  },
  {
   "cell_type": "code",
   "execution_count": 64,
   "metadata": {},
   "outputs": [
    {
     "ename": "TypeError",
     "evalue": "soma() takes 1 positional argument but 2 were given",
     "output_type": "error",
     "traceback": [
      "\u001b[1;31m---------------------------------------------------------------------------\u001b[0m",
      "\u001b[1;31mTypeError\u001b[0m                                 Traceback (most recent call last)",
      "Cell \u001b[1;32mIn[64], line 6\u001b[0m\n\u001b[0;32m      4\u001b[0m \u001b[38;5;28;01mdef\u001b[39;00m \u001b[38;5;21msoma\u001b[39m(a):\n\u001b[0;32m      5\u001b[0m     \u001b[38;5;28;01mreturn\u001b[39;00m a \u001b[38;5;241m+\u001b[39m \u001b[38;5;241m1\u001b[39m\n\u001b[1;32m----> 6\u001b[0m \u001b[38;5;28mprint\u001b[39m(\u001b[43msoma\u001b[49m\u001b[43m(\u001b[49m\u001b[38;5;241;43m1\u001b[39;49m\u001b[43m,\u001b[49m\u001b[38;5;241;43m2\u001b[39;49m\u001b[43m)\u001b[49m)\n",
      "\u001b[1;31mTypeError\u001b[0m: soma() takes 1 positional argument but 2 were given"
     ]
    }
   ],
   "source": [
    "def soma(a, b):\n",
    "    return a + b\n",
    "\n",
    "def soma(a):\n",
    "    return a + 1\n",
    "print(soma(1,2))\n",
    "\n",
    "#Não há sobrecarga"
   ]
  },
  {
   "cell_type": "markdown",
   "metadata": {},
   "source": [
    "Neste exemplo, a função soma recebe dois parâmetros e retorna a soma deles. A função é então chamada com os argumentos 3 e 4, e o resultado é impresso.\n"
   ]
  },
  {
   "cell_type": "code",
   "execution_count": 24,
   "metadata": {},
   "outputs": [
    {
     "name": "stdout",
     "output_type": "stream",
     "text": [
      "0 é par\n",
      "1 é ímpar\n",
      "2 é par\n",
      "3 é ímpar\n",
      "4 é par\n",
      "5 é ímpar\n",
      "6 é par\n",
      "7 é ímpar\n",
      "8 é par\n",
      "9 é ímpar\n",
      "10 é par\n"
     ]
    }
   ],
   "source": [
    "def contar_ate(num):\n",
    "    contador = 0\n",
    "    while contador <= num:\n",
    "        if contador % 2 == 0:\n",
    "            print(f\"{contador} é par\")\n",
    "        else:\n",
    "            print(f\"{contador} é ímpar\")\n",
    "        contador += 1\n",
    "\n",
    "contar_ate(10)\n"
   ]
  },
  {
   "cell_type": "markdown",
   "metadata": {},
   "source": [
    "Função para verificar se um número é par:/"
   ]
  },
  {
   "cell_type": "code",
   "execution_count": 25,
   "metadata": {},
   "outputs": [
    {
     "name": "stdout",
     "output_type": "stream",
     "text": [
      "True\n"
     ]
    }
   ],
   "source": [
    "def eh_par(num):\n",
    "    return num % 2 == 0\n",
    "\n",
    "print(eh_par(4))  # Saída esperada: True"
   ]
  },
  {
   "cell_type": "markdown",
   "metadata": {},
   "source": [
    "Função para encontrar o maior número em uma lista:"
   ]
  },
  {
   "cell_type": "code",
   "execution_count": 26,
   "metadata": {},
   "outputs": [
    {
     "name": "stdout",
     "output_type": "stream",
     "text": [
      "5\n"
     ]
    }
   ],
   "source": [
    "def maior_numero(lista):\n",
    "    maior = lista[0]\n",
    "    for num in lista:\n",
    "        if num > maior:\n",
    "            maior = num\n",
    "    return maior\n",
    "\n",
    "print(maior_numero([1, 2, 3, 4, 5])) "
   ]
  },
  {
   "cell_type": "markdown",
   "metadata": {},
   "source": [
    "Função para contar as vogais em uma string:"
   ]
  },
  {
   "cell_type": "code",
   "execution_count": null,
   "metadata": {},
   "outputs": [],
   "source": [
    "def contar_vogais(s):\n",
    "    vogais = \"aeiou\"\n",
    "    contador = 0\n",
    "    for char in s.lower():\n",
    "        if char in vogais:\n",
    "            contador += 1\n",
    "    return contador\n",
    "\n",
    "print(contar_vogais(\"hello world\"))  "
   ]
  },
  {
   "cell_type": "code",
   "execution_count": 38,
   "metadata": {},
   "outputs": [
    {
     "name": "stdout",
     "output_type": "stream",
     "text": [
      "Sim, existem 5 dias com temperatura média repetida.\n"
     ]
    }
   ],
   "source": [
    "def elementos_repetidos(lista):\n",
    "\trepetidos = list()\n",
    "\tfor i in lista:\n",
    "\t\t#print(f\"Quantidade de {i}: {lista.count(i)}\")\n",
    "\t\tif lista.count(i) > 1:\n",
    "\t\t\trepetidos.append(i)\n",
    "\t\t\t#print(f\"Lista atualizada: {repetidos}\")\n",
    "\tcount = len(repetidos)\n",
    "\tif(count > 0):\n",
    "\t\tprint(f\"Sim, existem {count} dias com temperatura média repetida.\")\n",
    "\telse:\n",
    "\t\tprint('Não, não existem dias com temperatura média repetida.')\n",
    "\n",
    "elementos_repetidos([ 30.5, 30, 29.5, 30, 30.5, 31, 30\n",
    "])"
   ]
  },
  {
   "cell_type": "code",
   "execution_count": null,
   "metadata": {},
   "outputs": [],
   "source": [
    "def elementos_repetidos(lista):\n",
    "\tfor i in lista:\n",
    "\t\tif lista.count(i) == 1:\n",
    "\t\t\treturn i\n",
    "\t"
   ]
  },
  {
   "cell_type": "code",
   "execution_count": 42,
   "metadata": {},
   "outputs": [
    {
     "data": {
      "text/plain": [
       "['a', 'm', 'o', 'r']"
      ]
     },
     "execution_count": 42,
     "metadata": {},
     "output_type": "execute_result"
    }
   ],
   "source": [
    "def soletrando_str(palavra):\n",
    "    return list(palavra)\n",
    "\n",
    "soletrando_str(\"amor\")"
   ]
  },
  {
   "cell_type": "code",
   "execution_count": 4,
   "metadata": {},
   "outputs": [
    {
     "data": {
      "text/plain": [
       "['a', 'm', 'o', 'r']"
      ]
     },
     "execution_count": 4,
     "metadata": {},
     "output_type": "execute_result"
    }
   ],
   "source": [
    "def soletrando_str(palavra):\n",
    "    lista = list()\n",
    "    for letra in palavra:\n",
    "        lista.append(letra)\n",
    "    return lista\n",
    "\n",
    "soletrando_str(\"amor\")"
   ]
  },
  {
   "cell_type": "code",
   "execution_count": 43,
   "metadata": {},
   "outputs": [
    {
     "data": {
      "text/plain": [
       "['r', 'o', 'm', 'a']"
      ]
     },
     "execution_count": 43,
     "metadata": {},
     "output_type": "execute_result"
    }
   ],
   "source": [
    "def soletrando_str(palavra):\n",
    "    return list(palavra)[::-1]\n",
    "\n",
    "soletrando_str(\"amor\")"
   ]
  },
  {
   "cell_type": "code",
   "execution_count": 14,
   "metadata": {},
   "outputs": [
    {
     "data": {
      "text/plain": [
       "['r', 'o', 'm', 'a']"
      ]
     },
     "execution_count": 14,
     "metadata": {},
     "output_type": "execute_result"
    }
   ],
   "source": [
    "def soletrando_str(palavra):\n",
    "    lista = list()\n",
    "    for i in range(len(palavra)-1, -1, -1):\n",
    "        lista.append(palavra[i])\n",
    "    return lista\n",
    "\n",
    "soletrando_str(\"amor\")"
   ]
  },
  {
   "cell_type": "code",
   "execution_count": 54,
   "metadata": {},
   "outputs": [
    {
     "data": {
      "text/plain": [
       "0"
      ]
     },
     "execution_count": 54,
     "metadata": {},
     "output_type": "execute_result"
    }
   ],
   "source": [
    "def primeiro_caractere_unico(palavra):\n",
    "    indice_unico = -1\n",
    "    for letra in palavra:\n",
    "        if palavra.count(letra) == 1:\n",
    "            indice_unico = palavra.index(letra)\n",
    "            break\n",
    "    return indice_unico\n",
    "\n",
    "primeiro_caractere_unico(\"amor\")"
   ]
  },
  {
   "cell_type": "code",
   "execution_count": 56,
   "metadata": {},
   "outputs": [
    {
     "data": {
      "text/plain": [
       "'2 pares, 3 ímpares'"
      ]
     },
     "execution_count": 56,
     "metadata": {},
     "output_type": "execute_result"
    }
   ],
   "source": [
    "def par_e_impar(lista):\n",
    "    pares = 0\n",
    "    impares = 0\n",
    "    for numero in lista:\n",
    "        if numero % 2 == 0:\n",
    "            pares += 1\n",
    "        else:\n",
    "            impares += 1\n",
    "    \n",
    "    return f\"{pares} {'pares' if pares>1  else 'par'}, {impares} {'ímpares' if impares>1  else 'ímpar'}\"\n",
    "\n",
    "par_e_impar([1,2,3,6,9])"
   ]
  },
  {
   "cell_type": "code",
   "execution_count": 57,
   "metadata": {},
   "outputs": [
    {
     "data": {
      "text/plain": [
       "[-8, 0, 1, 4, 5, 7, 7]"
      ]
     },
     "execution_count": 57,
     "metadata": {},
     "output_type": "execute_result"
    }
   ],
   "source": [
    "def ordena(lista):\n",
    "\tn = len(lista)\n",
    "\tfor i in range(n):\n",
    "\t\tfor j in range(n-i-1):\n",
    "\t\t\tif lista[j] > lista[j+1]:\n",
    "\t\t\t\tlista[j], lista[j+1] = lista[j+1], lista[j]\n",
    "\treturn lista\n",
    "\n",
    "ordena([5,7,4,1,0,7,-8])"
   ]
  },
  {
   "cell_type": "code",
   "execution_count": 66,
   "metadata": {},
   "outputs": [
    {
     "data": {
      "text/plain": [
       "['ovo', 'lov', 'xão']"
      ]
     },
     "execution_count": 66,
     "metadata": {},
     "output_type": "execute_result"
    }
   ],
   "source": [
    "def substring_str(lista):\n",
    "\tsubstrings = list()\n",
    "\tfor i in lista:\n",
    "\t\tfor j in lista:\n",
    "\t\t\tif (i != j) and (i in j) and (i not in substrings):\n",
    "\t\t\t\tsubstrings.append(i)\n",
    "\t\t\n",
    "\treturn substrings\n",
    "\n",
    "substring_str([\"lovour\",\n",
    "  \"ovo\",\n",
    "  \"lov\",\n",
    "  \"paixão\",\n",
    "  \"caixão\",\n",
    "  \"xão\"])"
   ]
  },
  {
   "cell_type": "code",
   "execution_count": 70,
   "metadata": {},
   "outputs": [
    {
     "data": {
      "text/plain": [
       "'João está aprovado(a)'"
      ]
     },
     "execution_count": 70,
     "metadata": {},
     "output_type": "execute_result"
    }
   ],
   "source": [
    "def avaliacao(lista):\n",
    "    nome = lista[0]['nome']\n",
    "    nota = lista[0]['nota']\n",
    "    faltas = lista[0]['faltas']\n",
    "\n",
    "    total_horas = 60\n",
    "    presenca = (total_horas-faltas)/total_horas * 100\n",
    "\n",
    "    if (nota >= 7 and presenca >= 60):\n",
    "        return f\"{nome} está aprovado(a)\"\n",
    "    return f\"{nome} está reprovado(a)\"\n",
    "\n",
    "avaliacao([{\"nome\":\"João\", \"nota\":7, \"faltas\":5}])\n"
   ]
  },
  {
   "cell_type": "code",
   "execution_count": 15,
   "metadata": {},
   "outputs": [
    {
     "data": {
      "text/plain": [
       "'Sim, existem 4 dias com temperatura média repetida.'"
      ]
     },
     "execution_count": 15,
     "metadata": {},
     "output_type": "execute_result"
    }
   ],
   "source": [
    "def contar_temperaturas_repetidas(temperaturas):\n",
    "    contador = {}\n",
    "    \n",
    "    for temp in temperaturas:\n",
    "        if temp in contador:\n",
    "            contador[temp] += 1\n",
    "        else:\n",
    "            contador[temp] = 1\n",
    "    \n",
    "    repetidos = sum(qtd - 1 for qtd in contador.values())\n",
    "    \n",
    "    if repetidos > 0:\n",
    "        return f\"Sim, existem {repetidos} dias com temperatura média repetida.\"\n",
    "    else:\n",
    "        return \"Não, não existem dias com temperatura média repetida.\"\n",
    "    \n",
    "contar_temperaturas_repetidas([18.5,\n",
    "  19,\n",
    "  20.5,\n",
    "  20.5,\n",
    "  19,\n",
    "  18.5,\n",
    "  19])"
   ]
  }
 ],
 "metadata": {
  "kernelspec": {
   "display_name": "ada",
   "language": "python",
   "name": "python3"
  },
  "language_info": {
   "codemirror_mode": {
    "name": "ipython",
    "version": 3
   },
   "file_extension": ".py",
   "mimetype": "text/x-python",
   "name": "python",
   "nbconvert_exporter": "python",
   "pygments_lexer": "ipython3",
   "version": "3.11.5"
  }
 },
 "nbformat": 4,
 "nbformat_minor": 2
}
