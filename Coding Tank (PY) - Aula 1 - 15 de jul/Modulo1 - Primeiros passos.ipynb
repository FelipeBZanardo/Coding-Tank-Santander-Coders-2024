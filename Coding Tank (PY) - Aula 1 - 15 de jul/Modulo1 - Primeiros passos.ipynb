{
 "cells": [
  {
   "cell_type": "markdown",
   "metadata": {},
   "source": [
    "![Sou uma imagem](img/eu.png)"
   ]
  },
  {
   "cell_type": "markdown",
   "metadata": {},
   "source": [
    "# AULA - 01 "
   ]
  },
  {
   "cell_type": "markdown",
   "metadata": {},
   "source": [
    "## Como acham que é a carreira de Cientista de Dados...\n",
    "\n"
   ]
  },
  {
   "cell_type": "markdown",
   "metadata": {},
   "source": [
    "![Alt Text](https://i.giphy.com/media/v1.Y2lkPTc5MGI3NjExbmNwcjI5bGM5dzE4N3o5YmtqN3hpeGVpcTV0eDJlbG0xMzR0c2FmMyZlcD12MV9pbnRlcm5hbF9naWZfYnlfaWQmY3Q9Zw/9thduMKTL4Dcc/giphy.gif)"
   ]
  },
  {
   "cell_type": "markdown",
   "metadata": {},
   "source": [
    "## Como realmente é..."
   ]
  },
  {
   "cell_type": "markdown",
   "metadata": {},
   "source": [
    "![Alt Text](https://i.giphy.com/media/v1.Y2lkPTc5MGI3NjExZ3Y2ZWMycWpsaDc1dzg2aHo2cHkybWo5ODVhdWw4YnpiOGxqMXA1diZlcD12MV9pbnRlcm5hbF9naWZfYnlfaWQmY3Q9Zw/l2YWn2XjzIWGvvGJW/giphy.gif)"
   ]
  },
  {
   "cell_type": "markdown",
   "metadata": {},
   "source": [
    "\n",
    "# Introdução\n",
    "\n",
    "Bem-vindos à primeira aula de Lógica de Programação I, onde exploraremos os fundamentos essenciais para construir programas eficientes e funcionais utilizando Python. Nesta jornada, vamos mergulhar em conceitos cruciais que formam a base de todo desenvolvedor no nosso caso cientista de dados.\n",
    "\n",
    "\n",
    "\n",
    "\n",
    "\n"
   ]
  },
  {
   "cell_type": "markdown",
   "metadata": {},
   "source": [
    "![Sou uma imagem](img/pseudocodigo.png)"
   ]
  },
  {
   "cell_type": "markdown",
   "metadata": {},
   "source": [
    "\n",
    "# Ambiente de Desenvolvimento\n",
    "Utilizaremos o VSCode como nossa ferramenta principal de desenvolvimento, combinado com o GIT para controle de versão. Aprenderemos como configurar um ambiente de trabalho eficiente e integrado, essencial para colaboração e gerenciamento de projetos.\n",
    "\n",
    "# Variáveis e Sistema de Tipos\n",
    "Começaremos entendendo o conceito de variáveis em Python e como elas armazenam diferentes tipos de dados, como números, strings e booleanos. Exploraremos também o sistema de tipos dinâmicos característico da linguagem."
   ]
  },
  {
   "cell_type": "markdown",
   "metadata": {},
   "source": [
    "# Um programa Python\n",
    "Para criar um programa em Python, você precisa armazená-lo em um arquivo. O arquivo deve ter a extensão .py.\n",
    "No meu caso gosto de trabalhar com estrutura de notebook então é .ipynb\n",
    "\n",
    "A ideia de um programa é fazer algo, executar uma tarefa. Para fazer o programa realizar algo, você precisa adicionar instruções de código que realizem ações. Uma instrução pode imprimir algum texto ou calcular algo, por exemplo. Um programa de exemplo pode se parecer com o seguinte:"
   ]
  },
  {
   "cell_type": "markdown",
   "metadata": {},
   "source": []
  },
  {
   "cell_type": "code",
   "execution_count": null,
   "metadata": {},
   "outputs": [],
   "source": []
  },
  {
   "cell_type": "code",
   "execution_count": null,
   "metadata": {},
   "outputs": [],
   "source": []
  },
  {
   "cell_type": "markdown",
   "metadata": {},
   "source": []
  },
  {
   "cell_type": "markdown",
   "metadata": {},
   "source": [
    "\n",
    "\n",
    "### Variáveis\n"
   ]
  },
  {
   "cell_type": "markdown",
   "metadata": {},
   "source": [
    "![Sou uma imagem](img/Variavel.png)"
   ]
  },
  {
   "cell_type": "markdown",
   "metadata": {},
   "source": [
    "#### Como devemos é a lógica sem pensar em código\n",
    "\n",
    "x vai receber o número 4 \n",
    "\n",
    "y vai receber o número 7\n",
    "\n",
    "z vai receber o número 9\n",
    "\n",
    "a vai receber o número 1\n",
    "\n",
    "b vai receber o número 67\n",
    "\n",
    "c  vai receber o número 34"
   ]
  },
  {
   "cell_type": "code",
   "execution_count": 2,
   "metadata": {},
   "outputs": [],
   "source": [
    "x=4\n",
    "y=7\n",
    "z=9\n",
    "a=1\n",
    "b=67\n",
    "c=34"
   ]
  },
  {
   "cell_type": "code",
   "execution_count": 3,
   "metadata": {},
   "outputs": [
    {
     "data": {
      "text/plain": [
       "4"
      ]
     },
     "execution_count": 3,
     "metadata": {},
     "output_type": "execute_result"
    }
   ],
   "source": [
    "x"
   ]
  },
  {
   "cell_type": "markdown",
   "metadata": {},
   "source": [
    "## Vamos começar pelo começo, sempre aprendemos a  programar pelo cliche  'Hello word\"'"
   ]
  },
  {
   "cell_type": "markdown",
   "metadata": {},
   "source": [
    "\n",
    "![Alt Text](https://i.giphy.com/media/v1.Y2lkPTc5MGI3NjExMng1bmh5czNhaXNkaWNnejRxcjRxajVmZjNjMWM5b2tlcGRkcmJ4MCZlcD12MV9pbnRlcm5hbF9naWZfYnlfaWQmY3Q9Zw/3ogwFGEHrVxusDbDjO/giphy.gif)"
   ]
  },
  {
   "cell_type": "code",
   "execution_count": 1,
   "metadata": {},
   "outputs": [
    {
     "name": "stdout",
     "output_type": "stream",
     "text": [
      "Hello Hord\n"
     ]
    }
   ],
   "source": [
    "print('Hello Hord')"
   ]
  },
  {
   "cell_type": "code",
   "execution_count": 2,
   "metadata": {},
   "outputs": [
    {
     "name": "stdout",
     "output_type": "stream",
     "text": [
      "34\n"
     ]
    }
   ],
   "source": [
    "print(34)"
   ]
  },
  {
   "cell_type": "markdown",
   "metadata": {},
   "source": [
    "\n",
    "\n",
    "### Tipos de dados\n",
    "\n",
    "Python é conhecido por ser uma linguagem de programação de tipagem dinâmica e forte. Isso significa que, ao contrário de linguagens de tipagem estática onde os tipos de variáveis são declarados explicitamente, em Python os tipos são inferidos em tempo de execução com base nos valores atribuídos às variáveis.\n",
    "\n",
    "#### Tipos Básicos\n",
    "Tipos Numéricos:\n",
    "\n",
    "Tipo | Descripción |Exemplo \n",
    "-------- | -------- | -------- \n",
    "int| Representa números inteiros| como 42 ou -10.\n",
    "float| Representa números decimais| como 3.14 ou -0.001.\n",
    "complex| Representa números complexos| como 1 + 2j.\n",
    "str| Representa cadeias de caracteres| como \"python\" ou \"Olá, mundo!\".\n",
    "bool| Representa valores booleanos |verdadeiro (True) ou falso (False).\n",
    "\n",
    "\n",
    "#### Exemplos de Uso\n",
    "Aqui estão alguns exemplos que demonstram a atribuição de diferentes tipos em Python:\n",
    "\n",
    "```\n",
    "planetas_no_sistema_solar = 8 # int, Plutão já foi considerado um planeta, mas agora é muito pequeno\n",
    "distancia_para_alfa_centauri = 4.367 # float, anos-luz\n",
    "pode_decolar = True\n",
    "navio_que_pousou_na_lua = \"Apollo 11\" # string \n",
    "\n",
    "```\n",
    "\n",
    "Como você sabe qual tipo algo tem? Se você vir os dados atribuídos à variável como mostrado no código a seguir, pode identificá-los:\n",
    "\n",
    "```\n",
    "distancia_para_alfa_centauri = 4.367 # Parece um decimal flutuante\n",
    "\n",
    "```\n",
    "\n",
    "Outra maneira é usar a função type():\n",
    "\n",
    "\n",
    "```\n",
    "type(distancia_a_alfa_centauri)\n",
    "```"
   ]
  },
  {
   "cell_type": "code",
   "execution_count": 4,
   "metadata": {},
   "outputs": [
    {
     "data": {
      "text/plain": [
       "float"
      ]
     },
     "execution_count": 4,
     "metadata": {},
     "output_type": "execute_result"
    }
   ],
   "source": [
    "# Declaramos a váriavel \n",
    "distancia_a_alfa_centauri = 4.367\n",
    "\n",
    "# Descubrimos su tipo de dato\n",
    "type(distancia_a_alfa_centauri)"
   ]
  },
  {
   "cell_type": "markdown",
   "metadata": {},
   "source": [
    "\n",
    "\n",
    "### Operadores\n",
    "Os operadores permitem realizar cálculos com variáveis e seus valores. A ideia geral é que você tem um lado esquerdo, um operador no meio e um lado direito:\n",
    "\n",
    "\n",
    "### Operadores Aritméticos\n",
    "Os operadores aritméticos são usados para realizar cálculos como adição, subtração, divisão e multiplicação. Aqui estão alguns dos operadores aritméticos que você pode usar:\n",
    "\n",
    "\n",
    "| Tipo | Descripción | Exemplo \n",
    "-------- | -------- | --------\n",
    "| + | Operador de adição que soma dois valores | ``` 1 + 1 ```.\n",
    "| - | Operador de subtração que subtrai o valor do lado direito do lado esquerdo | ``` 1 - 2 ```.\n",
    "| / | Operador de divisão que divide o lado esquerdo pelo lado direito | ``` 10 / 2 ```.\n",
    "| * | Operador de multiplicação | ``` 2 * 2 ```.\n",
    "\n",
    "### Operadores de Atribuição\n",
    "Os operadores de atribuição são usados para atribuir valores a uma variável ao longo do ciclo de vida dessa variável. Aqui estão alguns operadores de atribuição que você encontrará ao aprender a criar programas:\n",
    "\n",
    "Operador | Exemplo\n",
    "-------- | --------\n",
    "= | ```x = 2``` <br> x recebe 2.\n",
    "+= | ```x += 2``` <br> x é incrementado de  + 2. Como antes já continha 2, agora tem  o valor de 4.\n",
    "-= | ```x -= 3``` <br> x é incrementado de - 2. Como antes ele contia 4 , com menos 2, volta a ter 1.\n",
    "/= | ```x /= 2``` <br> x será dividido por 2. Se antes contia 2, 1/2 agora tem un valor de 0,5.\n",
    "*= | ```x *= 2``` <br> x será multiplicado por 2. Se antes contia 2, passa ao valor de 1.\n",
    "\n",
    "### Trabalhando com Datas\n",
    "Ao desenvolver programas, frequentemente você interage com datas. Uma data em um programa geralmente inclui tanto a data do calendário quanto a hora.\n",
    "\n",
    "As datas são úteis em diversas aplicações, como:\n",
    "\n",
    "*** Backup de arquivos: Usar uma data como parte do nome de um arquivo de backup é uma maneira eficaz de indicar quando o backup foi feito e quando deve ser feito novamente.\n",
    "*** Condição lógica: Você pode querer executar lógica específica baseada em uma data específica.\n",
    "*** Métrica: As datas são usadas para medir o desempenho do código, como medir o tempo de execução de uma função.\n",
    "Para trabalhar com datas em Python, você precisa importar o módulo date:\n",
    "\n",
    "\n",
    "\n",
    "```\n",
    "from datetime import date\n",
    "```\n",
    "\n",
    "Em seguida, você pode invocar as funções que deseja utilizar. Para obter a data de hoje, você pode chamar a função today():\n",
    "\n",
    "```\n",
    "date.today()\n",
    "```\n",
    "\n",
    "Para exibir a data no console, você pode usar a função print(). Esta função aceita muitos tipos de dados como entrada. Aqui está como você pode exibir a data de hoje:\n",
    "\n",
    "```\n",
    "print(date.today())\n",
    "```"
   ]
  },
  {
   "cell_type": "code",
   "execution_count": 3,
   "metadata": {},
   "outputs": [
    {
     "name": "stdout",
     "output_type": "stream",
     "text": [
      "2024-07-15\n"
     ]
    }
   ],
   "source": [
    "# Importamos la biblioteca \n",
    "from datetime import date\n",
    "\n",
    "# Obtenemos la fecha de hoy\n",
    "date.today()\n",
    "\n",
    "# Mostramos la fecha en la consola\n",
    "print(date.today())"
   ]
  },
  {
   "cell_type": "code",
   "execution_count": 4,
   "metadata": {},
   "outputs": [
    {
     "data": {
      "text/plain": [
       "datetime.date"
      ]
     },
     "execution_count": 4,
     "metadata": {},
     "output_type": "execute_result"
    }
   ],
   "source": [
    "type(date.today())"
   ]
  },
  {
   "cell_type": "code",
   "execution_count": 9,
   "metadata": {},
   "outputs": [
    {
     "name": "stdout",
     "output_type": "stream",
     "text": [
      "6\n"
     ]
    }
   ],
   "source": [
    "\n",
    "sum = 1 + 2 # 3\n",
    "product = sum * 2\n",
    "print(product)\n"
   ]
  },
  {
   "cell_type": "code",
   "execution_count": 5,
   "metadata": {},
   "outputs": [
    {
     "ename": "TypeError",
     "evalue": "can only concatenate str (not \"int\") to str",
     "output_type": "error",
     "traceback": [
      "\u001b[1;31m---------------------------------------------------------------------------\u001b[0m",
      "\u001b[1;31mTypeError\u001b[0m                                 Traceback (most recent call last)",
      "Cell \u001b[1;32mIn[5], line 1\u001b[0m\n\u001b[1;32m----> 1\u001b[0m \u001b[38;5;28mprint\u001b[39m(\u001b[38;5;124;43m\"\u001b[39;49m\u001b[38;5;124;43mTExto\u001b[39;49m\u001b[38;5;124;43m\"\u001b[39;49m\u001b[43m \u001b[49m\u001b[38;5;241;43m+\u001b[39;49m\u001b[43m \u001b[49m\u001b[38;5;241;43m3\u001b[39;49m)\n",
      "\u001b[1;31mTypeError\u001b[0m: can only concatenate str (not \"int\") to str"
     ]
    }
   ],
   "source": [
    "print(\"Texto\" + 3)"
   ]
  },
  {
   "cell_type": "code",
   "execution_count": 7,
   "metadata": {},
   "outputs": [
    {
     "name": "stdout",
     "output_type": "stream",
     "text": [
      "Texto3\n"
     ]
    }
   ],
   "source": [
    "print(\"Texto\" + str(3))"
   ]
  },
  {
   "cell_type": "markdown",
   "metadata": {},
   "source": [
    "### Conversão de Tipos de Dados\n",
    "Você quer usar uma data com uma mensagem. Isso geralmente é um problema. Se, por exemplo, você deseja exibir a data de hoje no console, pode encontrar um problema:\n",
    "\n",
    "\n",
    "\n",
    "print(\"A data de hoje é: \" + date.today())\n",
    "O que você obtém é um erro:\n",
    "\n",
    "```\n",
    "---------------------------------------------------------------------------\n",
    "TypeError                                 Traceback (most recent call last)\n",
    "<ipython-input-2-e74c8796a0b9> in <module>\n",
    "----> 1 print(\"A data de hoje é: \" + date.today())\n",
    "```\n",
    "\n",
    "```\n",
    "TypeError: can only concatenate str (not \"datetime.date\") to str\n",
    "```\n",
    "A última linha da mensagem indica qual é o problema. Você está tentando usar o operador + para combinar dois tipos de dados diferentes, uma string e uma data.\n",
    "\n",
    "Para fazer este código funcionar, você precisa converter a data para uma string. Para fazer essa conversão, você pode usar a função utilitária str():\n",
    "\n",
    "```\n",
    "print(\"A data de hoje é: \" + str(date.today()))\n",
    "```"
   ]
  },
  {
   "cell_type": "markdown",
   "metadata": {},
   "source": [
    "### Sua vez executa o próximo comando:"
   ]
  },
  {
   "cell_type": "code",
   "execution_count": 8,
   "metadata": {},
   "outputs": [
    {
     "name": "stdout",
     "output_type": "stream",
     "text": [
      "A data de  hoje é  : 2024-07-15\n"
     ]
    }
   ],
   "source": [
    "print(\"A data de  hoje é  : \" + str(date.today()))"
   ]
  },
  {
   "cell_type": "markdown",
   "metadata": {},
   "source": [
    "### Coletando Informações\n",
    "Até agora, você aprendeu várias construções da linguagem de programação Python. Você também escreveu alguns programas. No entanto, os programas operam com dados, e esses dados vêm de algum lugar. Nesta unidade, vamos examinar mais de perto como você pode coletar entradas tanto da linha de comando quanto do usuário.\n",
    "\n",
    "#### Entrada do Usuário\n",
    "Você pode codificar o programa para solicitar que o usuário forneça informações. Guarde os dados introduzidos no programa e, em seguida, aja de acordo com eles.\n",
    "\n",
    "Para capturar informações do usuário, utilize a função input(). Aqui está um exemplo:\n",
    "\n",
    "\n",
    "```\n",
    "print(\"Bem-vindo ao programa de saudação\")\n",
    "nome = input(\"Digite seu nome: \")\n",
    "print(\"Olá, \" + nome)\n",
    "\n",
    "```"
   ]
  },
  {
   "cell_type": "markdown",
   "metadata": {},
   "source": [
    "## Trabalhando com números\n",
    "A função armazena um resultado como uma string. Portanto, é possível que o seguinte código não faça o que você deseja que faça: input()\n"
   ]
  },
  {
   "cell_type": "markdown",
   "metadata": {},
   "source": [
    "### O que desejo fazer ??\n",
    "\n",
    "** receber a primeira variavel\n",
    "\n",
    "** receber a segunda variavel\n",
    "\n",
    "**somar as variaveis "
   ]
  },
  {
   "cell_type": "code",
   "execution_count": 9,
   "metadata": {},
   "outputs": [
    {
     "name": "stdout",
     "output_type": "stream",
     "text": [
      "Calculadora\n",
      "54\n"
     ]
    }
   ],
   "source": [
    "\n",
    "print(\"Calculadora\")\n",
    "primeiro_numero = input(\"Primeiro número: \")\n",
    "segundo_numero = input(\"Segundo número: \")\n",
    "print(primeiro_numero + segundo_numero)"
   ]
  },
  {
   "cell_type": "code",
   "execution_count": 10,
   "metadata": {},
   "outputs": [
    {
     "name": "stdout",
     "output_type": "stream",
     "text": [
      "Lista Cadastral\n",
      "Nome: Felipe\n",
      "Sobrenome: Zanardo\n",
      "Telefone: 11981600214\n",
      "Estado: SP\n",
      "Profissão: Engenheiro Eletricista\n",
      "\n"
     ]
    }
   ],
   "source": [
    "print(\"Lista Cadastral\")\n",
    "nome = input(\"Nome: \")\n",
    "sobrenome = input(\"Sobrenome: \")\n",
    "telefone = input(\"Telefone: \")\n",
    "estado = input(\"Estado: \")\n",
    "proffissao = input(\"Prodissão: \")\n",
    "print(f\"\"\"Nome: {nome}\n",
    "Sobrenome: {sobrenome}\n",
    "Telefone: {telefone}\n",
    "Estado: {estado}\n",
    "Profissão: {proffissao}\n",
    "\"\"\")"
   ]
  },
  {
   "cell_type": "code",
   "execution_count": 11,
   "metadata": {},
   "outputs": [
    {
     "name": "stdout",
     "output_type": "stream",
     "text": [
      "Lista Cadastral\n"
     ]
    },
    {
     "data": {
      "text/plain": [
       "{'Nome': 'Felipe',\n",
       " 'Sobrenome': 'Zanardo',\n",
       " 'Telefone': '11981600214',\n",
       " 'Estado': 'SP',\n",
       " 'Profissão': 'Engenheiro'}"
      ]
     },
     "execution_count": 11,
     "metadata": {},
     "output_type": "execute_result"
    }
   ],
   "source": [
    "print(\"Lista Cadastral\")\n",
    "inputs = [\"Nome\", \"Sobrenome\", \"Telefone\", \"Estado\", \"Profissão\"]\n",
    "respostas = dict()\n",
    "for inp in inputs:\n",
    "   respostas[inp] = input(inp)\n",
    "respostas"
   ]
  },
  {
   "cell_type": "code",
   "execution_count": 19,
   "metadata": {},
   "outputs": [
    {
     "name": "stdout",
     "output_type": "stream",
     "text": [
      "Número com duas casas decimais: 14.83\n",
      "Número com duas casas decimais: 14.83\n",
      "Número com duas casas decimais: numero:.2f\n",
      "Número com duas casas decimais: 14.832492141\n"
     ]
    }
   ],
   "source": [
    "numero = 14.832492141\n",
    "print(f'Número com duas casas decimais: {numero:.2f}')\n",
    "print(f'Número com duas casas decimais: {numero:.02f}')\n",
    "\n",
    "print(f'Número com duas casas decimais: numero:.2f')\n",
    "\n",
    "print(f'Número com duas casas decimais: {numero:2}')"
   ]
  },
  {
   "cell_type": "code",
   "execution_count": 11,
   "metadata": {},
   "outputs": [
    {
     "name": "stdout",
     "output_type": "stream",
     "text": [
      "Calculadora\n",
      "15\n"
     ]
    }
   ],
   "source": [
    "print(\"Calculadora\")\n",
    "primeiro_numero = int(input(\"Primeiro número: \"))\n",
    "segundo_numero = int(input(\"Segundo número: \"))\n",
    "print(primeiro_numero + segundo_numero)"
   ]
  },
  {
   "cell_type": "markdown",
   "metadata": {},
   "source": [
    "### Mas se agora eu quiser fazer a escolha tbm do operador "
   ]
  },
  {
   "cell_type": "markdown",
   "metadata": {},
   "source": []
  },
  {
   "cell_type": "code",
   "execution_count": null,
   "metadata": {},
   "outputs": [],
   "source": []
  },
  {
   "cell_type": "markdown",
   "metadata": {},
   "source": [
    "* Listas (list)\n",
    "* Tuplas (tuple)\n",
    "* Conjuntos (set)\n",
    "* Dicionários (dict).\n"
   ]
  },
  {
   "cell_type": "markdown",
   "metadata": {},
   "source": [
    "#### As coleções permitem armazenar múltiplos itens dentro de uma única unidade, que funciona como um container. Veremos três dentre as coleções mais utilizadas em Python, que são as listas, tuplas e dicionários."
   ]
  },
  {
   "cell_type": "markdown",
   "metadata": {},
   "source": [
    "\n",
    "### Listas\n",
    "\n",
    "* Lista é uma coleção de valores indexada, em que cada valor é identificado por um índice. O primeiro item na lista está no índice 0, o segundo no índice 1 e assim por diante.\n",
    "\n",
    "* Para criar uma lista com elementos deve-se usar colchetes e adicionar os itens entre eles separados por vírgula"
   ]
  },
  {
   "cell_type": "markdown",
   "metadata": {},
   "source": [
    "![Sou uma imagem](img/LISTA.png)"
   ]
  },
  {
   "cell_type": "code",
   "execution_count": 17,
   "metadata": {},
   "outputs": [
    {
     "name": "stdout",
     "output_type": "stream",
     "text": [
      "[4, 7, 9, 1, 67, 34]\n"
     ]
    }
   ],
   "source": [
    "lista=[4,7,9,1,67,34]\n",
    "print(lista)"
   ]
  },
  {
   "cell_type": "code",
   "execution_count": 18,
   "metadata": {},
   "outputs": [
    {
     "name": "stdout",
     "output_type": "stream",
     "text": [
      "4\n",
      "1\n",
      "34\n"
     ]
    }
   ],
   "source": [
    "print(lista[0])\n",
    "print(lista[3])\n",
    "print(lista[5])\n"
   ]
  },
  {
   "cell_type": "code",
   "execution_count": 19,
   "metadata": {},
   "outputs": [
    {
     "name": "stdout",
     "output_type": "stream",
     "text": [
      "<class 'list'>\n",
      "5\n",
      "Luana\n"
     ]
    }
   ],
   "source": [
    "programadores = ['Victor', 'Juliana', 'Samuel', 'Caio', 'Luana']\n",
    "print(type(programadores)) # type ‘list’\n",
    "print(len(programadores)) # 5\n",
    "print(programadores[4]) # Luana"
   ]
  },
  {
   "cell_type": "markdown",
   "metadata": {},
   "source": [
    "## E se no meu grupo quero trocar o Caio pelo Pedro:"
   ]
  },
  {
   "cell_type": "code",
   "execution_count": null,
   "metadata": {},
   "outputs": [],
   "source": []
  },
  {
   "cell_type": "markdown",
   "metadata": {},
   "source": []
  },
  {
   "cell_type": "markdown",
   "metadata": {},
   "source": [
    "Listas no Python são incrivelmente poderosas e úteis, mas será que são o ideal no nosso caso? Em primeiro lugar, podemos pensar no que pode ser problemático na prática, como a mutabilidade das listas.\n",
    "\n",
    "Já sabemos que listas são mutáveis, ou seja, que os valores de um mesmo objeto lista podem ser alterados. O que aconteceria, então, se alguém adicionasse um valor na lista de programadores com o método append() ou ainda removesse um com o remove(). Essa variável não teria mais sentido nenhum!\n",
    "\n",
    "Pior seria se alguém simplesmente mudasse um dos valores.\n"
   ]
  },
  {
   "cell_type": "markdown",
   "metadata": {},
   "source": [
    "# PARA ESSES CASOS TEMOS A TUPLA "
   ]
  },
  {
   "cell_type": "code",
   "execution_count": 10,
   "metadata": {},
   "outputs": [
    {
     "name": "stdout",
     "output_type": "stream",
     "text": [
      "('Ada Lovelace', 'Grace Hopper', 'Alan Turing', 'Linus Torvalds', 'Guido van Rossum')\n"
     ]
    }
   ],
   "source": [
    "programadores = (\"Ada Lovelace\", \"Grace Hopper\", \"Alan Turing\", \"Linus Torvalds\", \"Guido van Rossum\")\n",
    "\n",
    "# Imprimindo a tupla\n",
    "print(programadores)"
   ]
  },
  {
   "cell_type": "code",
   "execution_count": null,
   "metadata": {},
   "outputs": [],
   "source": []
  },
  {
   "cell_type": "markdown",
   "metadata": {},
   "source": [
    "## Tipos Específicos para Ciência de Dados:\n",
    "\n",
    "* Arrays do NumPy (numpy.ndarray)\n",
    "* DataFrames do Pandas (pandas.DataFrame)\n"
   ]
  },
  {
   "cell_type": "code",
   "execution_count": 11,
   "metadata": {},
   "outputs": [],
   "source": [
    "import numpy as np\n",
    "import pandas as pd\n",
    "\n",
    "array = np.array([1, 2, 3])\n",
    "df = pd.DataFrame({'col1': [1, 2], 'col2': [3, 4]})"
   ]
  },
  {
   "cell_type": "code",
   "execution_count": null,
   "metadata": {},
   "outputs": [],
   "source": []
  }
 ],
 "metadata": {
  "interpreter": {
   "hash": "502cd6c3b6c9e666d195e1caff9d64ea12bf644e547a4c8fae84812082c54b6f"
  },
  "kernelspec": {
   "display_name": "Python 3 (ipykernel)",
   "language": "python",
   "name": "python3"
  },
  "language_info": {
   "codemirror_mode": {
    "name": "ipython",
    "version": 3
   },
   "file_extension": ".py",
   "mimetype": "text/x-python",
   "name": "python",
   "nbconvert_exporter": "python",
   "pygments_lexer": "ipython3",
   "version": "3.11.5"
  }
 },
 "nbformat": 4,
 "nbformat_minor": 4
}
