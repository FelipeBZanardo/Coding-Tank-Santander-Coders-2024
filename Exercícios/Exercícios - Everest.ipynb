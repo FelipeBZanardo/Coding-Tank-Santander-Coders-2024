{
 "cells": [
  {
   "cell_type": "markdown",
   "metadata": {},
   "source": [
    "### 1) Listas\n",
    "<p>Paulinho está fazendo uma análise de temperatura média dos dias do último verão em sua cidade e busca semanas que possuem dias que possuem mesma temperatura média. Para ajudá-lo, crie uma função que recebe uma lista de valores decimais e identifique se, dentre o conjunto dos dados, existem e quantos são os valores repetidos. Assim, a função deve retornar a quantidade de dias com temperaturas iguais de acordo com a mensagem: 'Sim, existem ZZ dias com temperatura média repetida.' (onde ZZ é a quantidade de registros repetidos) caso aquela lista de temperaturas possua mais de um dia com temperatura repetida, ou 'Não, não existem dias com temperatura média repetida.', caso não haja.</p>\n",
    "\n",
    "```Ex:\n",
    "Entrada: [27.5, 30.2, 28.5, 29, 25, 24, 25.5]\n",
    "Saída: Não, não existem dias com temperatura média repetida.\n",
    "\n",
    "Ex:\n",
    "Entrada: [30.5, 30, 29.5, 30, 30.5, 31, 30]\n",
    "Saída: Sim, existem 3 dias com temperatura média repetida.\n",
    "\n",
    "Ex:\n",
    "Entrada: [18.5, 19, 20.5, 20.4, 20.5, 20.6, 20.7]\n",
    "Saída: Sim, existem 2 dias com temperatura média repetida.\n",
    "A função deverá ser criada seguindo a estrutura abaixo:\n",
    "\n",
    "def elementos_repetidos(lista):\n",
    "\t### Seu código aqui"
   ]
  },
  {
   "cell_type": "code",
   "execution_count": 1,
   "metadata": {},
   "outputs": [],
   "source": [
    "def elementos_repetidos(lista):\n",
    "\trepetidos = list()\n",
    "\tfor i in lista:\n",
    "\t\tif lista.count(i) > 1:\n",
    "\t\t\trepetidos.append(i)\n",
    "\tcount = len(repetidos)\n",
    "\tif(count > 0):\n",
    "\t\treturn f\"Sim, existem {count} dias com temperatura média repetida.\"\n",
    "\telse:\n",
    "\t\treturn \"Não, não existem dias com temperatura média repetida.\""
   ]
  },
  {
   "cell_type": "markdown",
   "metadata": {},
   "source": [
    "### 2) Listas\n",
    "<p>Analisando as temperaturas do ano passado, Paulinho busca identificar quais dias houveram temperaturas médias únicas diferentes do restante dentro da mesma semana. Dada uma lista de decimais (temperaturas) como entrada, onde existe um único número distinto nesta lista e os demais são repetidos (uma ou mais vezes), crie uma função para encontrar o número que é unico e retorná-lo.</p>\n",
    "\n",
    "```Ex:\n",
    "Entrada: [18, 19, 20, 21, 20, 19, 18]\n",
    "Saída: 21\n",
    "\n",
    "Ex:\n",
    "Entrada: [28.5, 27.9, 28.5, 27.9, 30, 28.5]\n",
    "Saída: 30\n",
    "A função deverá ser criada seguindo a estrutura abaixo:\n",
    "\n",
    "def numero_unico(lista):\n",
    "\t### Seu código aqui"
   ]
  },
  {
   "cell_type": "code",
   "execution_count": 2,
   "metadata": {},
   "outputs": [],
   "source": [
    "def numero_unico(lista):\n",
    "\tfor i in lista:\n",
    "\t\tif lista.count(i) == 1:\n",
    "\t\t\treturn i"
   ]
  },
  {
   "cell_type": "markdown",
   "metadata": {},
   "source": [
    "### 3) Substrings\n",
    "<p>Joazinho descobriu que tem facilidade com português na escola e então resolveu estudar soletração para participar de uma competição que vai ocorrer em sua cidade. Para ajudar Joazinho com os estudos dele, crie uma função que recebe uma palavra (string), separa todos os caracteres em uma lista e retorna esta lista.</p>\n",
    "\n",
    "```Ex:\n",
    "Entrada: amor\n",
    "Saída: [\"a\", \"m\", \"o\", \"r\"]\n",
    "\n",
    "Ex:\n",
    "Entrada: carro\n",
    "Saída: [\"c\", \"a\", \"r\", \"r\", \"o\"]\n",
    "A função deverá ser criada seguindo a estrutura abaixo:\n",
    "\n",
    "def soletrando_str(palavra):\n",
    "\t### Seu código aqui"
   ]
  },
  {
   "cell_type": "code",
   "execution_count": 3,
   "metadata": {},
   "outputs": [],
   "source": [
    "def soletrando_str(palavra):\n",
    "\treturn list(palavra)"
   ]
  },
  {
   "cell_type": "markdown",
   "metadata": {},
   "source": [
    "### 4) Substrings\n",
    "<p>Joazinho se destacou em seu colégio ao ganhar um concurso de soletração. Então, sua professora o incentivou a participar de um concurso de soletração a nível nacional, porém o concurso é de soletração de trás para frente. Dessa forma Joazinho vai precisar se dedicar e estudar muito para poder ir bem no concurso. Para ajudá-lo, crie uma função que recebe uma string, inverte-a e depois separa os carracteres em uma lista que deve ser o retorno da função.</p>\n",
    "\n",
    "```Ex:\n",
    "Entrada: amor\n",
    "Saída: [\"r\", \"o\", \"m\", \"a\"]\n",
    "\n",
    "Ex:\n",
    "Entrada: carro\n",
    "Saída: [\"o\", \"r\", \"r\", \"a\", \"c\"]\n",
    "A função deverá ser criada seguindo a estrutura abaixo:\n",
    "\n",
    "def soletrando_invertido_str(palavra):\n",
    "\t### Seu código aqui"
   ]
  },
  {
   "cell_type": "code",
   "execution_count": 4,
   "metadata": {},
   "outputs": [],
   "source": [
    "def soletrando_invertido_str(palavra):\n",
    "\treturn list(palavra)[::-1]"
   ]
  },
  {
   "cell_type": "markdown",
   "metadata": {},
   "source": [
    "### 5) Substrings\n",
    "<p>Buscando se aperfeiçoar em soletração e na identificação de caracteres nas palavras, um aluno vencedor de uma gincana de soletração teve curiosidade em identificar as letras não repetidas de uma palavra. Para ajudá-lo no treino, crie uma função que recebe uma palavra e retorna o índice do primeiro caractere não repetido desta palavra. Caso não exista caractere único na palavra em questão, retornar -1.</p>\n",
    "\n",
    "```Ex:\n",
    "Entrada: amor\n",
    "Saída: 0\n",
    "\n",
    "Ex:\n",
    "Entrada: cocada\n",
    "Saída: 1\n",
    "A função deverá ser criada seguindo a estrutura abaixo:\n",
    "\n",
    "def primeiro_caractere_unico(palavra):\n",
    "\t### Seu código aqui"
   ]
  },
  {
   "cell_type": "code",
   "execution_count": 5,
   "metadata": {},
   "outputs": [],
   "source": [
    "def primeiro_caractere_unico(palavra):\n",
    "\tindice_unico = -1\n",
    "\tfor letra in palavra:\n",
    "\t\tif palavra.count(letra) == 1:\n",
    "\t\t\tindice_unico = palavra.index(letra)\n",
    "\t\t\tbreak\n",
    "\treturn indice_unico"
   ]
  },
  {
   "cell_type": "markdown",
   "metadata": {},
   "source": [
    "### 6) Coleções, Laços e Condicionais\n",
    "<p>Dentro dos conjuntos numéricos existem vários subconjuntos, dentre eles os subconjuntos dos números pares e números ímpares. Os números pares são todos os números múltiplos de 2, enquanto os números ímpares são o números não pares, logo, são os números que não são múltiplos de 2. Assim, se o resto da divisão do número por 2 for igual à 0, o número é considerado par. Se não é igual a 0, é considerado ímpar. Crie uma função que receba um lista de números inteiros, identifica os números como pares ou ímpares e retorna uma string informando a quantidade de pares seguido de uma vírgula e depois a quantidade de ímpares.</p>\n",
    "\n",
    "```Ex:\n",
    "Entrada: 1,2,3,6,9\n",
    "Saída: 3 pares, 3 ímpares\n",
    "\n",
    "Ex:\n",
    "Entrada: 2,3,6\n",
    "Saída: 2 pares, 1 ímpar\n",
    "A função deverá ser criada seguindo a estrutura abaixo:\n",
    "\n",
    "def par_e_impar(lista):\n",
    "\t### Seu código aqui..."
   ]
  },
  {
   "cell_type": "code",
   "execution_count": 6,
   "metadata": {},
   "outputs": [],
   "source": [
    "def par_e_impar(lista):\n",
    "\tpares = 0\n",
    "\timpares = 0\n",
    "\tfor numero in lista:\n",
    "\t\tif numero%2 == 0:\n",
    "\t\t\tpares += 1\n",
    "\t\telse:\n",
    "\t\t\timpares += 1\n",
    "\t\n",
    "\treturn f\"{pares} {'pares' if pares>1  else 'par'}, {impares} {'ímpares' if impares>1  else 'ímpar'}\""
   ]
  },
  {
   "cell_type": "markdown",
   "metadata": {},
   "source": [
    "### 7) Busca e Ordenação\n",
    "<p>No dia a dia é comum trabalharmos com conjuntos de dados e em casos específicos pode ser necessário o uso de algum padrão de organização para melhor entender os dados, como ordem alfabética, por exemplo.</p>\n",
    "\n",
    "<p>Crie uma função que recebe uma lista de dados (inteiros), faz a ordenação dos dados de forma crescente e retorna o conjunto dos dados ordenados. A função deverá ser criada seguindo a estrutura abaixo:</p>\n",
    "\n",
    "```def ordena(lista):\n",
    "\t###seu código aqui.\n",
    "```\n",
    "\n",
    "<b>OBS: Tanto o parâmetro de entrada como o de saída da função devem ser do tipo list</b>"
   ]
  },
  {
   "cell_type": "code",
   "execution_count": 7,
   "metadata": {},
   "outputs": [],
   "source": [
    "def ordena(lista):\n",
    "\tn = len(lista)\n",
    "\tfor i in range(n):\n",
    "\t\tfor j in range(n-i-1):\n",
    "\t\t\tif lista[j] > lista[j+1]:\n",
    "\t\t\t\tlista[j], lista[j+1] = lista[j+1], lista[j]\n",
    "\treturn lista"
   ]
  },
  {
   "cell_type": "markdown",
   "metadata": {},
   "source": [
    "### 8) Substrings\n",
    "<p>Uma escola está programando uma gincana entre os seus alunos. Um dos desafios solicita a identificação de palavras que são substring dentro de um grupo de strings, ou seja, quais palavras estão contidas dentro de outras palavras.</p>\n",
    "\n",
    "<p>Para ajudar aos alunos crie uma função que recebe uma lista de palavras e retorna uma lista com as palavras que são substring de qualquer outra string existente na lista. No retorno, as substrings devem ser ordenadas de acordo com a disposição na lista de entrada, aparecendo uma única vez. Caso não existam substrings, a função deve retornar uma lista vazia.</p>\n",
    "\n",
    "```Ex:\n",
    "Entrada: [\"as\", \"mas\", \"amor\", \"amoreco\"]\n",
    "Saída: [\"as\", \"amoreco\"]\n",
    "\n",
    "Ex:\n",
    "Entrada: [\"carro\",\"ca\", \"paz\", \"pá\"]\n",
    "Saída: [\"ca\"]\n",
    "A função deverá ser criada seguindo a estrutura abaixo:\n",
    "\n",
    "def substring_str(lista):\n",
    "\t### Seu código aqui"
   ]
  },
  {
   "cell_type": "code",
   "execution_count": 8,
   "metadata": {},
   "outputs": [],
   "source": [
    "def substring_str(lista):\n",
    "\tsubstrings = list()\n",
    "\tfor i in lista:\n",
    "\t\tfor j in lista:\n",
    "\t\t\tif (i != j) and (i in j) and (i not in substrings):\n",
    "\t\t\t\tsubstrings.append(i)\n",
    "\t\n",
    "\treturn substrings"
   ]
  },
  {
   "cell_type": "markdown",
   "metadata": {},
   "source": [
    "### 9) Operações Aritméticas\n",
    "<p>Um professor precisa avaliar os alunos da sua turma para definir os que foram aprovados e reprovados. Para definir a aprovação ou reprovação são levados os seguintes critérios: a) Aluno deve ter uma presença igual ou superior a 60%; b) Aluno deve ter uma média igual ou superior a 7.</p>\n",
    "\n",
    "<p>Para ajudar o professor, elabore uma função que recebe em uma lista um dict com o nome do aluno, a média do aluno (nota) e a quantidade de horas (faltas) que o aluno teve durante a disciplina. Com esses dados, a função deve calcular se o aluno foi aprovado ou reprovado. Para calcular a presença do aluno considerar que o curso teve um total de 60 horas. O percentual deve ser calculado considerando a seguinte relação => (Total horas - número de faltas)/Total horas * 100;</p>\n",
    "\n",
    "<p>Como resultado deve ser retornado um texto informando se o aluno foi aprovado ou reprovado com o seguinte formato: 'Nome do aluno' + está (aprovado(a) ou reprovado(a))</p>\n",
    "\n",
    "```Ex:\n",
    "Entrada: [{\"nome\":\"João\", \"nota\":7, \"faltas\";5}]\n",
    "Saída: João está aprovado(a)\n",
    "\n",
    "Ex:\n",
    "Entrada: [{\"nome\":\"Maria\", \"nota\":7, \"faltas\":30}]\n",
    "Saída: Maria está reprovado(a)\n",
    "A função deverá ser criada seguindo a estrutura abaixo:\n",
    "\n",
    "def avaliacao(lista):\n",
    "\t### Seu código aqui"
   ]
  },
  {
   "cell_type": "code",
   "execution_count": 9,
   "metadata": {},
   "outputs": [],
   "source": [
    "def avaliacao(lista):\n",
    "\tnome = lista[0]['nome']\n",
    "\tnota = lista[0]['nota']\n",
    "\tfaltas = lista[0]['faltas']\n",
    "\t\n",
    "\ttotal_horas = 60\n",
    "\tpresenca = (total_horas-faltas)/total_horas * 100\n",
    "\tif (nota >= 7 and presenca >= 60):\n",
    "\t\treturn f\"{nome} está aprovado(a)\"\n",
    "\treturn f\"{nome} está reprovado(a)\""
   ]
  }
 ],
 "metadata": {
  "interpreter": {
   "hash": "502cd6c3b6c9e666d195e1caff9d64ea12bf644e547a4c8fae84812082c54b6f"
  },
  "kernelspec": {
   "display_name": "Python 3 (ipykernel)",
   "language": "python",
   "name": "python3"
  },
  "language_info": {
   "codemirror_mode": {
    "name": "ipython",
    "version": 3
   },
   "file_extension": ".py",
   "mimetype": "text/x-python",
   "name": "python",
   "nbconvert_exporter": "python",
   "pygments_lexer": "ipython3",
   "version": "3.11.5"
  }
 },
 "nbformat": 4,
 "nbformat_minor": 4
}
