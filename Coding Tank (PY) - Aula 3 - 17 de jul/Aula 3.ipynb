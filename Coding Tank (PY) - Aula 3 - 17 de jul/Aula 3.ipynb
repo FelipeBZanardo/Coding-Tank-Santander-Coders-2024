{
 "cells": [
  {
   "cell_type": "markdown",
   "id": "423e117e",
   "metadata": {},
   "source": [
    "<div style=\"background-color: lightgreen; padding: 18px;\">\n",
    "    <h1> Coding Tank | Vem Ser Tech \n",
    "</div>"
   ]
  },
  {
   "cell_type": "markdown",
   "id": "2bd0fc7d",
   "metadata": {},
   "source": [
    "\n"
   ]
  },
  {
   "cell_type": "markdown",
   "id": "2f4c88b7",
   "metadata": {},
   "source": [
    "**Operadores Aritméticos**\n",
    "\n",
    "|     Operador    |     Nome                 |     Função                                                                       |\n",
    "|-----------------|--------------------------|----------------------------------------------------------------------------------|\n",
    "|     +           |     Adição               |     Realiza   a soma de ambos operandos.                                         |\n",
    "|     -           |     Subtração            |     Realiza   a subtração de ambos operandos.                                    |\n",
    "|     *           |     Multiplicação        |     Realiza   a multiplicação de ambos operandos.                                |\n",
    "|     /           |     Divisão              |     Realiza   a Divisão de ambos operandos.                                      |\n",
    "|     //          |     Divisão   inteira    |     Realiza   a divisão entre operandos e a parte decimal de ambos operandos.    |\n",
    "|     %           |     Módulo               |     Retorna   o resto da divisão de ambos operandos.                             |\n",
    "|     **          |     Exponenciação        |     Retorna   o resultado da elevação da potência pelo outro.                    |"
   ]
  },
  {
   "cell_type": "markdown",
   "id": "1330ce7d",
   "metadata": {},
   "source": [
    "**Operadores de atribuição**\n",
    "\n",
    "|     Operador    |     Equivalente a    |\n",
    "|:---------------:|----------------------|\n",
    "|         =       |     x =   1          |\n",
    "|        +=       |     x =   x + 1      |\n",
    "|        -=       |     x =   x - 1      |\n",
    "|        *=       |     x =   x * 1      |\n",
    "|        /=       |     x =   x / 1      |\n",
    "|        %=       |     x =   x % 1      |"
   ]
  },
  {
   "cell_type": "markdown",
   "id": "3f9f720d",
   "metadata": {},
   "source": [
    "## Operadores de Comparação  \n",
    "Os operadores de comparação são aqueles que possuem o objetivo de analisar os valores de uma expressão e retornar um valor booleano, ou seja, verdadeiro (1) ou falso (0).\n",
    "\n",
    "**Operadores de comparação**\n",
    "\n",
    "|     Operador    |           Nome          |     Função                                              |\n",
    "|:---------------:|:-----------------------:|---------------------------------------------------------|\n",
    "|        ==       |         Igual   a       |     Verifica   se um valor é igual ao outro             |\n",
    "|        !=       |      Diferente   de     |     Verifica   se um valor é diferente ao outro         |\n",
    "|         >       |        Maior   que      |     Verifica   se um valor é maior que outro            |\n",
    "|        >=       |     Maior   ou igual    |     Verifica   se um valor é maior ou igual ao outro    |\n",
    "|         <       |        Menor   que      |     Verifica   se um valor é menor que outro            |\n",
    "|        <=       |     Menor   ou igual    |     Verifica   se um valor é menor ou igual ao outro    |"
   ]
  },
  {
   "cell_type": "markdown",
   "id": "bb5e987b",
   "metadata": {},
   "source": [
    "Enunciado: Escreva um programa que solicite ao usuário o preço de um produto e a porcentagem de desconto. Calcule e exiba o preço final após o desconto."
   ]
  },
  {
   "cell_type": "code",
   "execution_count": null,
   "id": "aacba510",
   "metadata": {},
   "outputs": [],
   "source": [
    "preco = float(input(\"Informe o preço do produto: R$\"))\n",
    "desconto = float(input(\"Informe a porcentagem de desconto: \"))\n",
    "print(f\"O preço do produto final é de R${preco*(1-desconto/100):.2f}\")"
   ]
  },
  {
   "cell_type": "markdown",
   "id": "45aeb8e0",
   "metadata": {},
   "source": [
    "Enunciado: Escreva um programa que solicite ao usuário uma frase e conte o número de vogais (a, e, i, o, u) na frase."
   ]
  },
  {
   "cell_type": "code",
   "execution_count": null,
   "id": "1abb95cc",
   "metadata": {},
   "outputs": [],
   "source": [
    "frase = input(\"Digite uma frase: \").lower()\n",
    "vogais = [\"a\", \"e\", \"i\", \"o\", \"u\"]\n",
    "count = 0\n",
    "for vogal in vogais:\n",
    "    #count += frase.lower().count(vogal)\n",
    "    for letra in frase:\n",
    "        if vogal == letra:\n",
    "            count += 1\n",
    "print(f\"Quantidade de vogais na frase: {count}\")\n"
   ]
  },
  {
   "cell_type": "markdown",
   "id": "99da0d47",
   "metadata": {},
   "source": [
    "**Bora praticar!**  \n",
    "Escreva um programa que receba seu nome, sua idade, hobby e escreva uma única sentença que seja, por exemplo, \"Meu nome é Renata, tenho 22 anos e meu hobby é viajar\" "
   ]
  },
  {
   "cell_type": "code",
   "execution_count": null,
   "id": "c7e45e40",
   "metadata": {},
   "outputs": [],
   "source": [
    "name = input(\"Qual seu nome? \")\n",
    "age = int(input(\"Qual sua idade? \"))\n",
    "hobby = input(\"Qual seu hobby? \")\n",
    "\n",
    "print(f\"Olá, meu nome é {name}, tenho {age} anos e meu hobby é {hobby}\")"
   ]
  },
  {
   "cell_type": "code",
   "execution_count": null,
   "id": "d93df66c",
   "metadata": {},
   "outputs": [],
   "source": [
    "name = input(\"Enter your name \")\n",
    "age = int(input(\"Enter your age \"))\n",
    "hobby = input('What\\'s your hobby? ')# hobby = input(\"What's your habby? \")\n",
    "\n",
    "print(f\"Hi, my name is {name}, I'm {age} years old and my hobby is {hobby}\")"
   ]
  },
  {
   "cell_type": "markdown",
   "id": "1c7dee09",
   "metadata": {},
   "source": [
    "**Operadores de atribuição**\n",
    "\n",
    "|     Operador    |     Equivalente a    |\n",
    "|:---------------:|----------------------|\n",
    "|         =       |     x =   1          |\n",
    "|        +=       |     x =   x + 1      |\n",
    "|        -=       |     x =   x - 1      |\n",
    "|        *=       |     x =   x * 1      |\n",
    "|        /=       |     x =   x / 1      |\n",
    "|        %=       |     x =   x % 1      |"
   ]
  },
  {
   "cell_type": "markdown",
   "id": "e6332069",
   "metadata": {},
   "source": [
    "**Bora praticar!**  \n",
    "Com tudo que vimos até o momento faça um programa que solicite ao usuário que insira seu ano de nascimento. Desconsiderando o mês do ano de nascimento, emita uma mensagem dizendo quantos anos ele possui."
   ]
  },
  {
   "cell_type": "code",
   "execution_count": null,
   "id": "e81365a4",
   "metadata": {},
   "outputs": [],
   "source": [
    "ano = int(input(\"Digite seu ano de nascimento: \"))\n",
    "ano_atual = 2024 # ano_atual = int(input(\"Digite o ano atual: \")) \n",
    "idade = ano_atual - ano\n",
    "\n",
    "print(f\"Você possui {idade} anos de idade :)\")"
   ]
  },
  {
   "cell_type": "code",
   "execution_count": null,
   "id": "fb9acf1f",
   "metadata": {},
   "outputs": [],
   "source": [
    "#Considerando o mês\n",
    "mes = int(input(\"Digite seu mês de nascimento\"))\n",
    "ano = int(input(\"Digite seu ano de nascimento: \"))\n",
    "ano_atual = 2024 \n",
    "mes_atual = 7\n",
    "\n",
    "if mes <= mes_atual:\n",
    "    idade = ano_atual - ano\n",
    "else:\n",
    "    idade = ano_atual - ano - 1\n",
    "\n",
    "\n",
    "print(f\"Você possui {idade} anos de idade :)\")"
   ]
  },
  {
   "cell_type": "markdown",
   "id": "c7e1072f",
   "metadata": {},
   "source": [
    "**Bora praticar!**  \n",
    "Imagine que você está implementando um sistema para verificar se os alunos de uma turma estudantil passaram na disciplina ou não. Para isso solicite que o usuário insira as notas das 4 provas realizadas por um estudante e calcule a média. Após isso, emita uma resposta booleana (True ou False) se o estudante passou na disciplina pensando que a média mínima para aprovação é que seja pelo menos 5."
   ]
  },
  {
   "cell_type": "code",
   "execution_count": null,
   "id": "970f58f3",
   "metadata": {},
   "outputs": [],
   "source": [
    "notas = list()\n",
    "for i in range(1,5):\n",
    "    notas.append(float(input(f\"Digite a nota {i}: \")))\n",
    "soma = 0\n",
    "for nota in notas:\n",
    "    soma += nota\n",
    "media = soma/len(notas)\n",
    "print(media >= 5)"
   ]
  },
  {
   "cell_type": "markdown",
   "id": "57b1c875",
   "metadata": {},
   "source": [
    "Crie um algoritmo que calcule o IMC (índice de massa corporal). O IMC é calculado com a formula PESO/(ALTURA ^ 2). Para isso, coloque as informações nas variáveis e ao final apresente o resultado como no exemplo: \"O IMC é 18\""
   ]
  },
  {
   "cell_type": "code",
   "execution_count": null,
   "id": "5f01e70b",
   "metadata": {},
   "outputs": [],
   "source": [
    "peso = float(input(\"Entre com o peso em Kg: \"))\n",
    "altura = float(input(\"Entra com a altura em metros: \"))\n",
    "imc = peso / pow(altura,2)\n",
    "print(f\"O IMC é {imc:.2f}\")"
   ]
  },
  {
   "cell_type": "markdown",
   "id": "7e0e1ca3",
   "metadata": {},
   "source": [
    "Escreva um algoritmo que calcule (x + y) * (x + y). Os valores de x e y devem ser inseridos pelo usuário"
   ]
  },
  {
   "cell_type": "code",
   "execution_count": null,
   "id": "8b5c7977",
   "metadata": {},
   "outputs": [],
   "source": [
    "x = float(input(\"Entre com o valor de x: \"))\n",
    "y = float(input(\"Entre com o valor de y: \"))\n",
    "resultado = (x+y)*(x+y)\n",
    "print(f\"({x}+{y})*({x}+{y}) = {resultado}\")"
   ]
  },
  {
   "cell_type": "markdown",
   "id": "345e6520",
   "metadata": {},
   "source": [
    "Cálculo da Gorjeta em um Restaurante:\n",
    "\n",
    "Enunciado: Escreva uma função que calcule a gorjeta de uma conta de restaurante com base na porcentagem fornecida pelo usuário. A função deve validar se o valor da conta e a porcentagem são positivos."
   ]
  },
  {
   "cell_type": "code",
   "execution_count": null,
   "id": "89e7d4e0",
   "metadata": {},
   "outputs": [],
   "source": [
    "while (True):\n",
    "    valor_conta = float(input(\"Digite o valor da conta R$\"))\n",
    "    if valor_conta > 0:\n",
    "        break\n",
    "    print(\"O valor deve ser positivo!\")\n",
    "\n",
    "while (True):\n",
    "    desconto = float(input(\"Porcentagem da gorjeta: \"))\n",
    "    if desconto > 0:\n",
    "        break\n",
    "    print(\"O valor deve ser positivo!\")\n",
    "\n",
    "gorjeta = valor_conta*desconto/100\n",
    "print(f\"O valor da gorjeta é: R${gorjeta:.2f}\")"
   ]
  },
  {
   "cell_type": "markdown",
   "id": "84a31990",
   "metadata": {},
   "source": [
    "Classificação de Idade:\n",
    "\n",
    "Enunciado: Escreva uma função que classifique uma pessoa como \"Criança\", \"Adolescente\", \"Adulto\" ou \"Idoso\" com base na idade fornecida pelo usuário."
   ]
  },
  {
   "cell_type": "code",
   "execution_count": null,
   "id": "3175cc5d",
   "metadata": {},
   "outputs": [],
   "source": [
    "idade = int(input(\"Digite sua idade: \"))\n",
    "if idade < 0:\n",
    "    print(\"Essa idade não existe\")\n",
    "elif idade < 10:\n",
    "    print(\"Criança\")\n",
    "elif idade < 18:\n",
    "    print(\"Adolescente\")\n",
    "elif idade < 60:\n",
    "    print(\"Adulto\")\n",
    "else:\n",
    "    print(\"Idoso\")"
   ]
  },
  {
   "cell_type": "markdown",
   "id": "d124f8d8",
   "metadata": {},
   "source": [
    "Verificação de Senha:\n",
    "\n",
    "Enunciado: Escreva uma função que verifique se uma senha fornecida pelo usuário atende a critérios de segurança (mínimo de 8 caracteres, pelo menos uma letra maiúscula, uma minúscula e um número). Utilize um laço para solicitar a senha até que ela seja válida."
   ]
  },
  {
   "cell_type": "code",
   "execution_count": null,
   "id": "056982cc",
   "metadata": {},
   "outputs": [],
   "source": [
    "while(True):\n",
    "    senha = input(\"Digite a senha: \")\n",
    "    count_maiusculas = 0\n",
    "    count_minusculas = 0\n",
    "    count_numeros = 0\n",
    "    for caracter in senha:\n",
    "        if caracter.islower():\n",
    "            count_minusculas += 1\n",
    "        if caracter.isupper():\n",
    "            count_maiusculas += 1\n",
    "        if caracter.isdigit():\n",
    "            count_numeros += 1\n",
    "\n",
    "#Verifica se a senha tem no mínimo 8 caracteres:\n",
    "    if len(senha) < 8:\n",
    "        print(\"A senha deve ter no mínimo 8 caracteres\")\n",
    "        continue\n",
    "\n",
    "#Verifica se a senha possui no mínimo 1 letra maiúscula:\n",
    "    if count_maiusculas == 0:\n",
    "        print(\"A senha deve ter no mínimo 1 caracter maiúsculo\")\n",
    "        continue\n",
    "\n",
    "#Verifica se a senha possui no mínimo 1 letra minúscula:\n",
    "    if count_minusculas == 0:\n",
    "        print(\"A senha deve ter no mínimo 1 caracter minúsculo\")\n",
    "        continue\n",
    "\n",
    "#Verifica se a senha possui no mínimo 1 número:\n",
    "    if count_numeros == 0:\n",
    "        print(\"A senha deve ter no mínimo 1 número\")\n",
    "        continue\n",
    "    break\n",
    "\n",
    "print(\"Senha aprovada!!!\")"
   ]
  },
  {
   "cell_type": "markdown",
   "id": "5a2d682e",
   "metadata": {},
   "source": [
    "Cálculo do Índice de Massa Corporal (IMC):\n",
    "\n",
    "$\\IMC=(peso/(altura**2))\n",
    "​\n",
    " \n",
    "\n",
    "Enunciado: Escreva uma função para calcular o Índice de Massa Corporal (IMC) usando a fórmula \n",
    "\n",
    "Utilize if para classificar o IMC em diferentes categorias (Abaixo do peso, Peso normal, Sobrepeso, Obesidade)."
   ]
  },
  {
   "cell_type": "code",
   "execution_count": null,
   "id": "befdb1b2",
   "metadata": {},
   "outputs": [],
   "source": [
    "peso = float(input(\"Entre com o peso em Kg: \"))\n",
    "altura = float(input(\"Entra com a altura em metros: \"))\n",
    "imc = peso / pow(altura,2)\n",
    "print(f\"O IMC é {imc:.2f}\")\n",
    "if imc < 18.5:\n",
    "    print(\"Abaixo do peso\")\n",
    "elif imc < 25:\n",
    "    print(\"Peso normal\")\n",
    "elif imc < 30:\n",
    "    print(\"Sobrepeso\")\n",
    "else:\n",
    "    print(\"Obesidade\")"
   ]
  },
  {
   "cell_type": "markdown",
   "id": "574d3c74",
   "metadata": {},
   "source": [
    "Cálculo do Retorno sobre Investimento (ROI):\n",
    "\n",
    "Enunciado: Escreva uma função para calcular o Retorno sobre Investimento (ROI) usando a fórmula \n",
    "\n",
    "$ROI= ((Ganho−Custo)/Custo)×100.\n",
    "\n",
    "Utilize if para garantir que o custo seja positivo e while para permitir várias entradas até que valores válidos sejam fornecidos."
   ]
  },
  {
   "cell_type": "code",
   "execution_count": 3,
   "id": "9aeb000d",
   "metadata": {},
   "outputs": [
    {
     "name": "stdout",
     "output_type": "stream",
     "text": [
      "O valor deve ser maior do que 0. Digite novamente\n",
      "O valor deve ser maior do que 0. Digite novamente\n",
      "ROI = 400.0%\n"
     ]
    }
   ],
   "source": [
    "while True:\n",
    "    ganho = float(input(\"Valor do ganho (Positivo): R$\"))\n",
    "    if ganho > 0:\n",
    "        break\n",
    "    print(\"O valor deve ser maior do que 0. Digite novamente\")\n",
    "\n",
    "while True:\n",
    "    custo = float(input(\"Valor do custo (Positivo): R$\"))\n",
    "    if custo > 0:\n",
    "        break\n",
    "    print(\"O valor deve ser maior do que 0. Digite novamente\")\n",
    "\n",
    "roi = (ganho - custo) / custo * 100\n",
    "print(f\"ROI = {roi}%\")"
   ]
  },
  {
   "cell_type": "code",
   "execution_count": 5,
   "id": "aebaa98a",
   "metadata": {},
   "outputs": [
    {
     "name": "stdout",
     "output_type": "stream",
     "text": [
      "O valor deve ser maior do que 0. Digite novamente\n",
      "O valor deve ser maior do que 0. Digite novamente\n",
      "ROI = 525.0%\n"
     ]
    }
   ],
   "source": [
    "def receber_positivo(variavel):\n",
    "    while True:\n",
    "        valor = float(input(f\"Valor do {variavel} (Positivo): R$\"))\n",
    "        if valor > 0:\n",
    "            return valor\n",
    "        print(\"O valor deve ser maior do que 0. Digite novamente\")\n",
    "    \n",
    "def calcular_roi(ganho, custo):\n",
    "    return (ganho - custo) / custo * 100\n",
    "\n",
    "ganho = receber_positivo(\"ganho\")\n",
    "custo = receber_positivo(\"custo\")\n",
    "print(f\"ROI = {calcular_roi(ganho, custo)}%\")"
   ]
  }
 ],
 "metadata": {
  "kernelspec": {
   "display_name": "Python 3 (ipykernel)",
   "language": "python",
   "name": "python3"
  },
  "language_info": {
   "codemirror_mode": {
    "name": "ipython",
    "version": 3
   },
   "file_extension": ".py",
   "mimetype": "text/x-python",
   "name": "python",
   "nbconvert_exporter": "python",
   "pygments_lexer": "ipython3",
   "version": "3.11.5"
  }
 },
 "nbformat": 4,
 "nbformat_minor": 5
}
